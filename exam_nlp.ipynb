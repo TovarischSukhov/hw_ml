{
 "cells": [
  {
   "cell_type": "code",
   "execution_count": 26,
   "metadata": {
    "collapsed": false
   },
   "outputs": [
    {
     "name": "stdout",
     "output_type": "stream",
     "text": [
      "0.00576216803088522 7.610379034927835e-06 0.08227126682986537\n",
      "-24.163871247745167 -28.40445010380044 -21.599587894213936\n"
     ]
    }
   ],
   "source": [
    "import math\n",
    "p_drug = 261440.0\n",
    "p_verny = 68297.0\n",
    "p_drug_verny = 950.0\n",
    "p_melankhol = 1359.0\n",
    "p_drug_melan = 1.0\n",
    "p_drug_druga = 21509.0\n",
    "\n",
    "dais_vern = 2*(p_drug_verny)/(p_drug + p_verny)\n",
    "dais_melan = 2*(p_drug_melan)/(p_drug + p_melankhol)\n",
    "dais_drug = 2*(p_drug_druga)/(p_drug + p_drug)\n",
    "print(dais_vern, dais_melan, dais_drug) # 0.00576216803088522 7.610379034927835e-06 0.08227126682986537\n",
    "\n",
    "pmi_vern = math.log((p_drug_verny)/(p_drug * p_verny), 2)\n",
    "pmi_melan = math.log((p_drug_melan)/(p_drug * p_melankhol), 2)\n",
    "pmi_drug = math.log((p_drug_druga)/(p_drug * p_drug), 2)\n",
    "print(pmi_vern, pmi_melan, pmi_drug) #-24.163871247745167 -28.40445010380044 -21.599587894213936"
   ]
  },
  {
   "cell_type": "code",
   "execution_count": 31,
   "metadata": {
    "collapsed": false
   },
   "outputs": [
    {
     "name": "stdout",
     "output_type": "stream",
     "text": [
      "[0.2608695652173913, 0.38235294117647056, 0.2857142857142857, 0.24390243902439024, 0.15384615384615385, 0.29850746268656714]\n"
     ]
    }
   ],
   "source": [
    "def dice_coefficient(a, b):\n",
    "    \"\"\"dice coefficient 2nt/na + nb.\"\"\"\n",
    "    if not len(a) or not len(b): return 0.0\n",
    "    if len(a) == 1:  a=a+u'.'\n",
    "    if len(b) == 1:  b=b+u'.'\n",
    "    \n",
    "    a_bigram_list=[]\n",
    "    for i in range(len(a)-1):\n",
    "      a_bigram_list.append(a[i:i+2])\n",
    "    b_bigram_list=[]\n",
    "    for i in range(len(b)-1):\n",
    "      b_bigram_list.append(b[i:i+2])\n",
    "      \n",
    "    a_bigrams = set(a_bigram_list)\n",
    "    b_bigrams = set(b_bigram_list)\n",
    "    overlap = len(a_bigrams & b_bigrams)\n",
    "    dice_coeff = overlap * 2.0/(len(a_bigrams) + len(b_bigrams))\n",
    "    return dice_coeff\n",
    "\n",
    "a1 = 'А как вы относитесь к коммунистической партии?'\n",
    "a2 = 'Нечего сказать, хорошее определение задач рабочей партии!'\n",
    "b1 = 'Вся партия оказалась бракованой'\n",
    "b2 = 'Партия товаров сгинула вместе с Титаником.'\n",
    "\n",
    "d_a1_a2 = dice_coefficient(a1, a2)\n",
    "d_a1_b1 = dice_coefficient(a1, b1)\n",
    "d_a1_b2 = dice_coefficient(a1, b2)\n",
    "d_a2_b1 = dice_coefficient(a2, b1)\n",
    "d_a2_b2 = dice_coefficient(a2, b2)\n",
    "d_b1_b2 = dice_coefficient(b1, b2)\n",
    "\n",
    "dice = [d_a1_a2,\n",
    "d_a1_b1,\n",
    "d_a1_b2,\n",
    "d_a2_b1,\n",
    "d_a2_b2,\n",
    "d_b1_b2]\n",
    "\n",
    "print(dice)"
   ]
  }
 ],
 "metadata": {
  "kernelspec": {
   "display_name": "Python 3",
   "language": "python",
   "name": "python3"
  },
  "language_info": {
   "codemirror_mode": {
    "name": "ipython",
    "version": 3
   },
   "file_extension": ".py",
   "mimetype": "text/x-python",
   "name": "python",
   "nbconvert_exporter": "python",
   "pygments_lexer": "ipython3",
   "version": "3.6.0"
  }
 },
 "nbformat": 4,
 "nbformat_minor": 2
}
