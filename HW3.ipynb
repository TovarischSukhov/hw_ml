{
 "cells": [
  {
   "cell_type": "markdown",
   "metadata": {},
   "source": [
    "Построить классификатор, который \"угадывает\" персонажа по его фразе. Baseline: равновероятный выбор между всеми главными героями.\n",
    "Примерный план действий: \n",
    "1. выделить реплики главных персонажей\n",
    "2.сгруппировать их по героям, нормализовать (свой выбор процедур объяснить (например, нужно ли включать в стоп-лист обсценную лексику?); из инструментов для английского удобно использовать nltk)\n",
    "3. векторизовать (например, CountVectorizer), отрезать поверочную выборку (эту часть не трогаем до последней проверки).\n",
    "4. На оставшейся, большей, части данных: \n",
    "1) немного поанализировать данные, чтобы понять, какие признаки могут помочь при обучении — например, построить частотные списки и сравнить их (достаточно ли матрицы терм-документ с ненормализованными вхождениями слов?); \n",
    "2) обучить модели (лес, наивный байес, логит) и подобрать их оптимальные параметры. Интерпретировать параметры (атрибуты) лучших моделей. Протестировать их на проверочной выборке, выбрать лучшую модель, проиллюстрировать результат (например, нарисовать decision surface). Сравнить результат с нехитрым Baseline классификатором."
   ]
  },
  {
   "cell_type": "code",
   "execution_count": 1,
   "metadata": {
    "collapsed": true
   },
   "outputs": [],
   "source": [
    "#imports\n",
    "import pandas as pd"
   ]
  },
  {
   "cell_type": "code",
   "execution_count": 2,
   "metadata": {
    "collapsed": false
   },
   "outputs": [
    {
     "data": {
      "text/html": [
       "<div>\n",
       "<table border=\"1\" class=\"dataframe\">\n",
       "  <thead>\n",
       "    <tr style=\"text-align: right;\">\n",
       "      <th></th>\n",
       "      <th>Season</th>\n",
       "      <th>Episode</th>\n",
       "      <th>Character</th>\n",
       "      <th>Line</th>\n",
       "    </tr>\n",
       "  </thead>\n",
       "  <tbody>\n",
       "    <tr>\n",
       "      <th>0</th>\n",
       "      <td>10</td>\n",
       "      <td>1</td>\n",
       "      <td>Stan</td>\n",
       "      <td>You guys, you guys! Chef is going away. \\n</td>\n",
       "    </tr>\n",
       "    <tr>\n",
       "      <th>1</th>\n",
       "      <td>10</td>\n",
       "      <td>1</td>\n",
       "      <td>Kyle</td>\n",
       "      <td>Going away? For how long?\\n</td>\n",
       "    </tr>\n",
       "    <tr>\n",
       "      <th>2</th>\n",
       "      <td>10</td>\n",
       "      <td>1</td>\n",
       "      <td>Stan</td>\n",
       "      <td>Forever.\\n</td>\n",
       "    </tr>\n",
       "    <tr>\n",
       "      <th>3</th>\n",
       "      <td>10</td>\n",
       "      <td>1</td>\n",
       "      <td>Chef</td>\n",
       "      <td>I'm sorry boys.\\n</td>\n",
       "    </tr>\n",
       "    <tr>\n",
       "      <th>4</th>\n",
       "      <td>10</td>\n",
       "      <td>1</td>\n",
       "      <td>Stan</td>\n",
       "      <td>Chef said he's been bored, so he joining a gro...</td>\n",
       "    </tr>\n",
       "  </tbody>\n",
       "</table>\n",
       "</div>"
      ],
      "text/plain": [
       "  Season Episode Character                                               Line\n",
       "0     10       1      Stan         You guys, you guys! Chef is going away. \\n\n",
       "1     10       1      Kyle                        Going away? For how long?\\n\n",
       "2     10       1      Stan                                         Forever.\\n\n",
       "3     10       1      Chef                                  I'm sorry boys.\\n\n",
       "4     10       1      Stan  Chef said he's been bored, so he joining a gro..."
      ]
     },
     "execution_count": 2,
     "metadata": {},
     "output_type": "execute_result"
    }
   ],
   "source": [
    "#how raw daata looks like\n",
    "raw_data = pd.read_csv('./SouthParkData/All-seasons.csv')\n",
    "raw_data.head()"
   ]
  },
  {
   "cell_type": "code",
   "execution_count": 3,
   "metadata": {
    "collapsed": false
   },
   "outputs": [
    {
     "data": {
      "text/html": [
       "<div>\n",
       "<table border=\"1\" class=\"dataframe\">\n",
       "  <thead>\n",
       "    <tr style=\"text-align: right;\">\n",
       "      <th></th>\n",
       "      <th>Season</th>\n",
       "      <th>Episode</th>\n",
       "      <th>Character</th>\n",
       "      <th>Line</th>\n",
       "    </tr>\n",
       "  </thead>\n",
       "  <tbody>\n",
       "    <tr>\n",
       "      <th>count</th>\n",
       "      <td>70896</td>\n",
       "      <td>70896</td>\n",
       "      <td>70896</td>\n",
       "      <td>70896</td>\n",
       "    </tr>\n",
       "    <tr>\n",
       "      <th>unique</th>\n",
       "      <td>19</td>\n",
       "      <td>19</td>\n",
       "      <td>3950</td>\n",
       "      <td>64301</td>\n",
       "    </tr>\n",
       "    <tr>\n",
       "      <th>top</th>\n",
       "      <td>2</td>\n",
       "      <td>10</td>\n",
       "      <td>Cartman</td>\n",
       "      <td>What?\\n</td>\n",
       "    </tr>\n",
       "    <tr>\n",
       "      <th>freq</th>\n",
       "      <td>6416</td>\n",
       "      <td>5271</td>\n",
       "      <td>9774</td>\n",
       "      <td>361</td>\n",
       "    </tr>\n",
       "  </tbody>\n",
       "</table>\n",
       "</div>"
      ],
      "text/plain": [
       "       Season Episode Character     Line\n",
       "count   70896   70896     70896    70896\n",
       "unique     19      19      3950    64301\n",
       "top         2      10   Cartman  What?\\n\n",
       "freq     6416    5271      9774      361"
      ]
     },
     "execution_count": 3,
     "metadata": {},
     "output_type": "execute_result"
    }
   ],
   "source": [
    "#little summary, not all lines are unique. Moreover alot of characters\n",
    "raw_data.describe()"
   ]
  },
  {
   "cell_type": "code",
   "execution_count": 4,
   "metadata": {
    "collapsed": false
   },
   "outputs": [
    {
     "data": {
      "text/plain": [
       "Character\n",
       "Cartman         9774\n",
       "Stan            7680\n",
       "Kyle            7099\n",
       "Butters         2602\n",
       "Randy           2467\n",
       "Mr. Garrison    1002\n",
       "Chef             917\n",
       "Kenny            881\n",
       "Sharon           862\n",
       "Mr. Mackey       633\n",
       "dtype: int64"
      ]
     },
     "execution_count": 4,
     "metadata": {},
     "output_type": "execute_result"
    }
   ],
   "source": [
    "#count lines for character. Data have big \"tale\" of more or less unique characters\n",
    "#Мы берем в рассмортрение только 4х главных героев\n",
    "raw_data.groupby(['Character']).size().sort_values(ascending=False).head(10)"
   ]
  },
  {
   "cell_type": "code",
   "execution_count": 5,
   "metadata": {
    "collapsed": false
   },
   "outputs": [
    {
     "data": {
      "text/html": [
       "<div>\n",
       "<table border=\"1\" class=\"dataframe\">\n",
       "  <thead>\n",
       "    <tr style=\"text-align: right;\">\n",
       "      <th></th>\n",
       "      <th></th>\n",
       "      <th>Episode</th>\n",
       "      <th>Line</th>\n",
       "      <th>Season</th>\n",
       "    </tr>\n",
       "    <tr>\n",
       "      <th>Character</th>\n",
       "      <th></th>\n",
       "      <th></th>\n",
       "      <th></th>\n",
       "      <th></th>\n",
       "    </tr>\n",
       "  </thead>\n",
       "  <tbody>\n",
       "    <tr>\n",
       "      <th rowspan=\"4\" valign=\"top\">Cartman</th>\n",
       "      <th>count</th>\n",
       "      <td>9774</td>\n",
       "      <td>9774</td>\n",
       "      <td>9774</td>\n",
       "    </tr>\n",
       "    <tr>\n",
       "      <th>unique</th>\n",
       "      <td>18</td>\n",
       "      <td>9340</td>\n",
       "      <td>18</td>\n",
       "    </tr>\n",
       "    <tr>\n",
       "      <th>top</th>\n",
       "      <td>7</td>\n",
       "      <td>What?\\n</td>\n",
       "      <td>4</td>\n",
       "    </tr>\n",
       "    <tr>\n",
       "      <th>freq</th>\n",
       "      <td>850</td>\n",
       "      <td>52</td>\n",
       "      <td>801</td>\n",
       "    </tr>\n",
       "    <tr>\n",
       "      <th rowspan=\"4\" valign=\"top\">Kenny</th>\n",
       "      <th>count</th>\n",
       "      <td>881</td>\n",
       "      <td>881</td>\n",
       "      <td>881</td>\n",
       "    </tr>\n",
       "    <tr>\n",
       "      <th>unique</th>\n",
       "      <td>18</td>\n",
       "      <td>754</td>\n",
       "      <td>18</td>\n",
       "    </tr>\n",
       "    <tr>\n",
       "      <th>top</th>\n",
       "      <td>3</td>\n",
       "      <td>(Yeah!)\\n</td>\n",
       "      <td>3</td>\n",
       "    </tr>\n",
       "    <tr>\n",
       "      <th>freq</th>\n",
       "      <td>106</td>\n",
       "      <td>17</td>\n",
       "      <td>132</td>\n",
       "    </tr>\n",
       "    <tr>\n",
       "      <th rowspan=\"4\" valign=\"top\">Kyle</th>\n",
       "      <th>count</th>\n",
       "      <td>7099</td>\n",
       "      <td>7099</td>\n",
       "      <td>7099</td>\n",
       "    </tr>\n",
       "    <tr>\n",
       "      <th>unique</th>\n",
       "      <td>18</td>\n",
       "      <td>6493</td>\n",
       "      <td>18</td>\n",
       "    </tr>\n",
       "    <tr>\n",
       "      <th>top</th>\n",
       "      <td>1</td>\n",
       "      <td>What?\\n</td>\n",
       "      <td>2</td>\n",
       "    </tr>\n",
       "    <tr>\n",
       "      <th>freq</th>\n",
       "      <td>635</td>\n",
       "      <td>61</td>\n",
       "      <td>824</td>\n",
       "    </tr>\n",
       "    <tr>\n",
       "      <th rowspan=\"4\" valign=\"top\">Stan</th>\n",
       "      <th>count</th>\n",
       "      <td>7680</td>\n",
       "      <td>7680</td>\n",
       "      <td>7680</td>\n",
       "    </tr>\n",
       "    <tr>\n",
       "      <th>unique</th>\n",
       "      <td>18</td>\n",
       "      <td>6995</td>\n",
       "      <td>18</td>\n",
       "    </tr>\n",
       "    <tr>\n",
       "      <th>top</th>\n",
       "      <td>10</td>\n",
       "      <td>What?\\n</td>\n",
       "      <td>2</td>\n",
       "    </tr>\n",
       "    <tr>\n",
       "      <th>freq</th>\n",
       "      <td>594</td>\n",
       "      <td>73</td>\n",
       "      <td>831</td>\n",
       "    </tr>\n",
       "  </tbody>\n",
       "</table>\n",
       "</div>"
      ],
      "text/plain": [
       "                 Episode       Line Season\n",
       "Character                                 \n",
       "Cartman   count     9774       9774   9774\n",
       "          unique      18       9340     18\n",
       "          top          7    What?\\n      4\n",
       "          freq       850         52    801\n",
       "Kenny     count      881        881    881\n",
       "          unique      18        754     18\n",
       "          top          3  (Yeah!)\\n      3\n",
       "          freq       106         17    132\n",
       "Kyle      count     7099       7099   7099\n",
       "          unique      18       6493     18\n",
       "          top          1    What?\\n      2\n",
       "          freq       635         61    824\n",
       "Stan      count     7680       7680   7680\n",
       "          unique      18       6995     18\n",
       "          top         10    What?\\n      2\n",
       "          freq       594         73    831"
      ]
     },
     "execution_count": 5,
     "metadata": {},
     "output_type": "execute_result"
    }
   ],
   "source": [
    "#top_speakers = raw_data.groupby(['Character']).size(\n",
    "#    ).loc[raw_data.groupby(['Character']).size() > 2000]\n",
    "#print(top_speakers.index.values)\n",
    "# Выделяем реплики главных героев\n",
    "top_speakers = ['Stan', 'Kyle', 'Cartman', 'Kenny']\n",
    "main_char_lines = raw_data.loc[raw_data['Character'].isin(top_speakers)]\n",
    "main_char_lines.groupby(['Character']).describe()"
   ]
  },
  {
   "cell_type": "markdown",
   "metadata": {},
   "source": [
    "Нормализация данных:\n",
    "лемматизаруем, убираем стоп-слова, но не добавляем обесуененую лексику,так как (кажется) некоторые персонажи выражаются чаще других\n",
    "Обязательно убираем всю пунктуацию и переносы строки, так как реплики Кенни в скобках"
   ]
  },
  {
   "cell_type": "code",
   "execution_count": 6,
   "metadata": {
    "collapsed": false
   },
   "outputs": [
    {
     "name": "stderr",
     "output_type": "stream",
     "text": [
      "/Users/Ksenia/anaconda/lib/python3.6/site-packages/ipykernel/__main__.py:3: SettingWithCopyWarning: \n",
      "A value is trying to be set on a copy of a slice from a DataFrame.\n",
      "Try using .loc[row_indexer,col_indexer] = value instead\n",
      "\n",
      "See the caveats in the documentation: http://pandas.pydata.org/pandas-docs/stable/indexing.html#indexing-view-versus-copy\n",
      "  app.launch_new_instance()\n"
     ]
    }
   ],
   "source": [
    "from sklearn.model_selection import train_test_split\n",
    "\n",
    "main_char_lines['Line'] = [line.replace('\\n','') for line in main_char_lines['Line']]\n",
    "train, evaluate = train_test_split(main_char_lines, test_size=0.3, random_state=14)"
   ]
  },
  {
   "cell_type": "markdown",
   "metadata": {},
   "source": [
    "разбиваем выборку на две части, вторую называем evaluate, на ней будем проверять модели в самом конце"
   ]
  },
  {
   "cell_type": "code",
   "execution_count": 7,
   "metadata": {
    "collapsed": false
   },
   "outputs": [],
   "source": [
    "#preprocess data\n",
    "from sklearn.feature_extraction.text import CountVectorizer\n",
    "from nltk.corpus import stopwords\n",
    "import nltk\n",
    "from nltk.stem.lancaster import LancasterStemmer\n",
    "from nltk import word_tokenize\n",
    "from string import punctuation\n",
    "\n",
    "st = LancasterStemmer()\n",
    "def token(text):\n",
    "    txt = nltk.word_tokenize(text.lower())\n",
    "    #print([st.stem(word) for word in txt if word not in punctuation])\n",
    "    return [st.stem(word) for word in txt if word not in punctuation]\n",
    "\n",
    "\n",
    "stop = set(stopwords.words(\"english\"))\n",
    "#cv = CountVectorizer(#lowercase=True, \n",
    "#                     tokenizer=token, #stop_words=stop,# token_pattern=u'(?u)\\b\\w\\w+\\b',\n",
    "#                     analyzer=u'word', min_df=4)\n",
    "cv = CountVectorizer(tokenizer=word_tokenize , stop_words=\"english\", max_features=5000)\n",
    "#print(train['Line'].tolist())\n",
    "\n",
    "train_vec = cv.fit_transform(train['Line'].tolist())\n",
    "evaluate_vec = cv.transform(evaluate['Line'].tolist())\n",
    "\n",
    "\n",
    "#print(vec_train)"
   ]
  },
  {
   "cell_type": "code",
   "execution_count": 8,
   "metadata": {
    "collapsed": false
   },
   "outputs": [],
   "source": [
    "#разбиваем трейн на трейн и тест еще раз, чтобы учиться на этом\n",
    "to_train_vec, to_test_vec, to_train_answ, to_test_answ = train_test_split(train_vec,\n",
    "                                                                            train['Character'], \n",
    "                                                                            test_size=0.3, \n",
    "                                                                            random_state=14)\n",
    "#print(to_train_vec[:2], to_train_answ[:2], to_test_vec[:2], to_test_answ[:2])"
   ]
  },
  {
   "cell_type": "code",
   "execution_count": 9,
   "metadata": {
    "collapsed": false
   },
   "outputs": [
    {
     "name": "stdout",
     "output_type": "stream",
     "text": [
      "             precision    recall  f1-score   support\n",
      "\n",
      "    Cartman       0.37      0.37      0.37      2045\n",
      "      Kenny       0.02      0.03      0.03       176\n",
      "       Kyle       0.30      0.28      0.29      1509\n",
      "       Stan       0.29      0.30      0.30      1611\n",
      "\n",
      "avg / total       0.32      0.31      0.31      5341\n",
      "\n"
     ]
    }
   ],
   "source": [
    "from sklearn.dummy import DummyClassifier\n",
    "from sklearn.metrics import classification_report\n",
    "\n",
    "dc = DummyClassifier()\n",
    "dc.fit(to_train_vec, to_train_answ)\n",
    "#print(to_test['Line'].tolist())\n",
    "print(classification_report(to_test_answ, dc.predict(to_test_vec), target_names=['Cartman', 'Kenny', 'Kyle' , 'Stan']))"
   ]
  },
  {
   "cell_type": "code",
   "execution_count": 10,
   "metadata": {
    "collapsed": false
   },
   "outputs": [
    {
     "name": "stdout",
     "output_type": "stream",
     "text": [
      "             precision    recall  f1-score   support\n",
      "\n",
      "    Cartman       0.56      0.68      0.61      2045\n",
      "      Kenny       0.96      0.91      0.93       176\n",
      "       Kyle       0.46      0.30      0.37      1509\n",
      "       Stan       0.46      0.48      0.47      1611\n",
      "\n",
      "avg / total       0.51      0.52      0.51      5341\n",
      "\n"
     ]
    }
   ],
   "source": [
    "from sklearn.naive_bayes import MultinomialNB\n",
    "from sklearn.metrics import classification_report, f1_score, accuracy_score\n",
    "\n",
    "nb = MultinomialNB()\n",
    "#print(to_train_answ)\n",
    "nb.fit(to_train_vec, to_train_answ)\n",
    "\n",
    "print(classification_report(to_test_answ, nb.predict(to_test_vec), target_names=['Cartman', 'Kenny', 'Kyle' , 'Stan']))\n",
    "#accuracy_score(to_test_answ, nb.predict(to_test_vec),)"
   ]
  },
  {
   "cell_type": "code",
   "execution_count": 11,
   "metadata": {
    "collapsed": false
   },
   "outputs": [
    {
     "name": "stdout",
     "output_type": "stream",
     "text": [
      "             precision    recall  f1-score   support\n",
      "\n",
      "    Cartman       0.59      0.68      0.63      2045\n",
      "      Kenny       0.99      0.95      0.97       176\n",
      "       Kyle       0.47      0.32      0.38      1509\n",
      "       Stan       0.46      0.51      0.48      1611\n",
      "\n",
      "avg / total       0.53      0.54      0.53      5341\n",
      "\n"
     ]
    }
   ],
   "source": [
    "from sklearn.linear_model import LogisticRegression\n",
    "\n",
    "lr = LogisticRegression()#solver='sag', multi_class='multinomial', n_jobs=-1, max_iter=100)\n",
    "\n",
    "#lr = LogisticRegression(penalty=\"l2\", solver=\"lbfgs\", multi_class=\"multinomial\", max_iter=300, n_jobs=-1)\n",
    "lr.fit(to_train_vec.toarray(), to_train_answ)\n",
    "\n",
    "print(classification_report(to_test_answ, lr.predict(to_test_vec), target_names=['Cartman', 'Kenny', 'Kyle' , 'Stan']))\n",
    "#accuracy_score(to_test_answ, lr.predict(to_test_vec))"
   ]
  },
  {
   "cell_type": "code",
   "execution_count": 12,
   "metadata": {
    "collapsed": false
   },
   "outputs": [
    {
     "name": "stdout",
     "output_type": "stream",
     "text": [
      "             precision    recall  f1-score   support\n",
      "\n",
      "    Cartman       0.56      0.66      0.60      2045\n",
      "      Kenny       0.99      0.95      0.97       176\n",
      "       Kyle       0.45      0.33      0.38      1509\n",
      "       Stan       0.44      0.44      0.44      1611\n",
      "\n",
      "avg / total       0.50      0.51      0.50      5341\n",
      "\n"
     ]
    },
    {
     "data": {
      "text/plain": [
       "0.53622917056730945"
      ]
     },
     "execution_count": 12,
     "metadata": {},
     "output_type": "execute_result"
    }
   ],
   "source": [
    "from sklearn.ensemble import RandomForestClassifier\n",
    "\n",
    "rf = RandomForestClassifier(n_estimators=100, n_jobs=-1)\n",
    "rf.fit(to_train_vec.toarray(), to_train_answ)\n",
    "\n",
    "print(classification_report(to_test_answ, rf.predict(to_test_vec), target_names=['Cartman', 'Kenny', 'Kyle' , 'Stan']))\n",
    "accuracy_score(to_test_answ, lr.predict(to_test_vec))"
   ]
  },
  {
   "cell_type": "code",
   "execution_count": 14,
   "metadata": {
    "collapsed": false
   },
   "outputs": [
    {
     "name": "stdout",
     "output_type": "stream",
     "text": [
      "0.458355111752\n",
      "             precision    recall  f1-score   support\n",
      "\n",
      "    Cartman       0.56      0.66      0.60      2045\n",
      "      Kenny       0.99      0.95      0.97       176\n",
      "       Kyle       0.45      0.33      0.38      1509\n",
      "       Stan       0.44      0.44      0.44      1611\n",
      "\n",
      "avg / total       0.50      0.51      0.50      5341\n",
      "\n"
     ]
    },
    {
     "data": {
      "text/plain": [
       "0.53622917056730945"
      ]
     },
     "execution_count": 14,
     "metadata": {},
     "output_type": "execute_result"
    }
   ],
   "source": [
    "from sklearn.ensemble import AdaBoostClassifier\n",
    "from sklearn.model_selection import cross_val_score\n",
    "\n",
    "clf = AdaBoostClassifier(n_estimators=100)\n",
    "scores = cross_val_score(clf, to_train_vec.toarray(), to_train_answ)\n",
    "print(scores.mean())\n",
    "clf.fit(to_train_vec.toarray(), to_train_answ)\n",
    "print(classification_report(to_test_answ, rf.predict(to_test_vec), target_names=['Cartman', 'Kenny', 'Kyle' , 'Stan']))\n",
    "accuracy_score(to_test_answ, lr.predict(to_test_vec))"
   ]
  },
  {
   "cell_type": "markdown",
   "metadata": {},
   "source": [
    "Лучше всего классифицирует логистическая регрессия, пыталась обучить multinominal, но не \"сошлась\" и точность поэтому не изменилась. Так же проеверяла на данных без удаления стоп-слов, качество ухудшилось, но незначительно. Этот код не привожу, чтобы не плодить уж совсем не читаемый документ.\n",
    "Длее проверим, улучшится ли точность, если применить TfidfVectorizer()"
   ]
  },
  {
   "cell_type": "code",
   "execution_count": 15,
   "metadata": {
    "collapsed": false
   },
   "outputs": [
    {
     "name": "stdout",
     "output_type": "stream",
     "text": [
      "             precision    recall  f1-score   support\n",
      "\n",
      "    Cartman       0.55      0.75      0.64      2045\n",
      "      Kenny       0.99      0.94      0.96       176\n",
      "       Kyle       0.49      0.28      0.36      1509\n",
      "       Stan       0.47      0.45      0.46      1611\n",
      "\n",
      "avg / total       0.53      0.54      0.52      5341\n",
      "\n"
     ]
    }
   ],
   "source": [
    "from sklearn.feature_extraction.text import TfidfVectorizer\n",
    "\n",
    "stop = set(stopwords.words(\"english\"))\n",
    "#cv = CountVectorizer(#lowercase=True, \n",
    "#                     tokenizer=token, #stop_words=stop,# token_pattern=u'(?u)\\b\\w\\w+\\b',\n",
    "#                     analyzer=u'word', min_df=4)\n",
    "cv = TfidfVectorizer(tokenizer=word_tokenize , stop_words=\"english\", max_features=5000)\n",
    "#print(train['Line'].tolist())\n",
    "\n",
    "train_vec_tf = cv.fit_transform(train['Line'].tolist())\n",
    "evaluate_vec_tf = cv.transform(evaluate['Line'].tolist())\n",
    "\n",
    "tf_train_vec, tf_test_vec, tf_train_answ, tf_test_answ = train_test_split(train_vec_tf,\n",
    "                                                                            train['Character'], \n",
    "                                                                            test_size=0.3, \n",
    "                                                                            random_state=14)\n",
    "\n",
    "lr = LogisticRegression()#solver='sag', multi_class='multinomial', n_jobs=-1, max_iter=100)\n",
    "lr.fit(tf_train_vec.toarray(), tf_train_answ)\n",
    "\n",
    "print(classification_report(tf_test_answ, lr.predict(tf_test_vec), target_names=['Cartman', 'Kenny', 'Kyle' , 'Stan']))"
   ]
  },
  {
   "cell_type": "markdown",
   "metadata": {},
   "source": [
    "TfidfVectorizer показал себя практически так же, как и CounVectorizer, только немного ухудшил f-меру, поэтому дальше будем использовать первый вариант векторизации.\n",
    "Теперь посчитаем клучивые слова для каждого из главных героев через log-likelihood ratio.\n",
    "Для этого сначала выделим и токенезируем все фразы каждого героя. После этого посчитаем log-likelyhood вручную и выделим слова, специфичные для каждого говорящего (порог подобран вручную)"
   ]
  },
  {
   "cell_type": "code",
   "execution_count": 16,
   "metadata": {
    "collapsed": false
   },
   "outputs": [],
   "source": [
    "from nltk import word_tokenize\n",
    "import itertools\n",
    "def preprocess(text):\n",
    "    result = []\n",
    "    words = word_tokenize(text)\n",
    "    for word in words:\n",
    "        if word not in punctuation and word not in stop and word != '...':\n",
    "            result.append(word.lower())\n",
    "    return result\n",
    "\n",
    "#print(train.loc[train['Character']=='Cartman']['Line'].values)\n",
    "cartman_words = [preprocess(word) for word in train.loc[train['Character']=='Cartman']['Line'].values]\n",
    "kenny_words = [preprocess(word) for word in train.loc[train['Character']=='Kenny']['Line'].values]\n",
    "kyle_words = [preprocess(word) for word in train.loc[train['Character']=='Kyle']['Line'].values]\n",
    "stan_words = [preprocess(word) for word in train.loc[train['Character']=='Stan']['Line'].values]\n",
    "cartman_words = list(itertools.chain.from_iterable(cartman_words))\n",
    "kenny_words = list(itertools.chain.from_iterable(kenny_words))\n",
    "kyle_words = list(itertools.chain.from_iterable(kyle_words))\n",
    "stan_words = list(itertools.chain.from_iterable(stan_words))"
   ]
  },
  {
   "cell_type": "code",
   "execution_count": 22,
   "metadata": {
    "collapsed": false,
    "scrolled": false
   },
   "outputs": [
    {
     "name": "stderr",
     "output_type": "stream",
     "text": [
      "/Users/Ksenia/anaconda/lib/python3.6/site-packages/ipykernel/__main__.py:43: RuntimeWarning: divide by zero encountered in log\n",
      "/Users/Ksenia/anaconda/lib/python3.6/site-packages/ipykernel/__main__.py:43: RuntimeWarning: invalid value encountered in double_scalars\n"
     ]
    }
   ],
   "source": [
    "import numpy as np\n",
    "\n",
    "#составление частотного списка\n",
    "def freq_dict(text):\n",
    "    #print(text)\n",
    "    f_dict = dict.fromkeys(set(text), 0)\n",
    "    \n",
    "    for word in text:\n",
    "        f_dict[word] += 1\n",
    "    #print(f_dict)\n",
    "    return f_dict\n",
    "\n",
    "#Функция, использующая предыдущие функции для выделения ключевых слов.\n",
    "def extract_keywords(text, others):\n",
    "    #print(text)\n",
    "    #others = list(itertools.chain.from_iterable(others))\n",
    "    #print(others)\n",
    "    #key_words = []\n",
    "    freq_text = freq_dict(text)\n",
    "    freq_others = freq_dict(others)\n",
    "    #print('mew')\n",
    "    columns = ['freq_txt','freq_others', 'other_txt',\n",
    "                             'other_others ', 'log_like']\n",
    "    #print('e' in set(text))\n",
    "    df_words = pd.DataFrame(columns=columns, index=set(text))\n",
    "    #print(df_words.index)\n",
    "    for word in freq_text:\n",
    "        #print(word)\n",
    "        #print(df_words.loc[word])\n",
    "\n",
    "        a = freq_text[word]\n",
    "        #print(a)\n",
    "        if word in freq_others.keys():\n",
    "            b = freq_others[word]\n",
    "        else:\n",
    "            b = 0\n",
    "        c = sum(freq_text.values())-a\n",
    "        d = sum(freq_others.values())-b\n",
    "        N = a+b+c+d\n",
    "        e1 = (a+c)*((a+b)/N)\n",
    "        e2 = (b+d)*((a+b)/N)\n",
    "        #print(a, b, c, d, e1, e2)\n",
    "        log_like = 2*((a*np.log(a/e1)+(b*np.log(b/e2))))\n",
    "        df_words.loc[word] = [a, b, c, d, log_like]\n",
    "    #print(df_words.sort_values('log_like', ascending=False).head(15))\n",
    "    \n",
    "    return df_words.loc[df_words['log_like'] >= 15.4265].index\n",
    "\n",
    "key_cartman = extract_keywords(cartman_words, kyle_words+kenny_words+stan_words)\n",
    "key_kyle = extract_keywords(kyle_words, cartman_words+kenny_words+stan_words)\n",
    "key_kenny = extract_keywords(kenny_words, kyle_words+cartman_words+stan_words)\n",
    "key_stan = extract_keywords(stan_words, kyle_words+kenny_words+cartman_words)"
   ]
  },
  {
   "cell_type": "markdown",
   "metadata": {},
   "source": [
    "Теперь надо сделать датасет, где будут учитываться ключевые слова. Для начала добавим в датафрейм столбцы для каждого ключевого слова и заполним единицами те строки, где это слово встречается (эта часть считается больше 30 минут)"
   ]
  },
  {
   "cell_type": "code",
   "execution_count": 20,
   "metadata": {
    "collapsed": false
   },
   "outputs": [
    {
     "name": "stdout",
     "output_type": "stream",
     "text": [
      "    Season Episode Character  \\\n",
      "0       10       1      Stan   \n",
      "1       10       1      Kyle   \n",
      "2       10       1      Stan   \n",
      "4       10       1      Stan   \n",
      "9       10       1   Cartman   \n",
      "10      10       1      Stan   \n",
      "19      10       1      Kyle   \n",
      "20      10       1   Cartman   \n",
      "21      10       1      Stan   \n",
      "23      10       1      Stan   \n",
      "24      10       1      Kyle   \n",
      "25      10       1   Cartman   \n",
      "26      10       1      Kyle   \n",
      "28      10       1      Stan   \n",
      "46      10       1      Kyle   \n",
      "48      10       1      Stan   \n",
      "49      10       1   Cartman   \n",
      "50      10       1      Stan   \n",
      "51      10       1      Kyle   \n",
      "52      10       1      Stan   \n",
      "53      10       1     Kenny   \n",
      "55      10       1   Cartman   \n",
      "56      10       1      Kyle   \n",
      "58      10       1      Stan   \n",
      "60      10       1      Kyle   \n",
      "62      10       1      Stan   \n",
      "64      10       1      Kyle   \n",
      "68      10       1      Kyle   \n",
      "70      10       1   Cartman   \n",
      "72      10       1      Kyle   \n",
      "74      10       1      Stan   \n",
      "76      10       1      Stan   \n",
      "78      10       1      Kyle   \n",
      "80      10       1      Stan   \n",
      "82      10       1      Stan   \n",
      "86      10       1      Stan   \n",
      "92      10       1      Kyle   \n",
      "95      10       1      Kyle   \n",
      "97      10       1      Stan   \n",
      "99      10       1      Kyle   \n",
      "101     10       1   Cartman   \n",
      "102     10       1      Kyle   \n",
      "103     10       1     Kenny   \n",
      "104     10       1      Kyle   \n",
      "105     10       1      Stan   \n",
      "106     10       1     Kenny   \n",
      "107     10       1   Cartman   \n",
      "108     10       1      Kyle   \n",
      "109     10       1   Cartman   \n",
      "111     10       1      Kyle   \n",
      "\n",
      "                                                  Line    i  jew  brother  \\\n",
      "0             You guys, you guys! Chef is going away.   0.0  0.0      0.0   \n",
      "1                            Going away? For how long?  0.0  0.0      0.0   \n",
      "2                                             Forever.  0.0  0.0      0.0   \n",
      "4    Chef said he's been bored, so he joining a gro...  0.0  0.0      0.0   \n",
      "9    I'm gonna miss him.  I'm gonna miss Chef and I...  1.0  0.0      0.0   \n",
      "10   Dude, how are we gonna go on? Chef was our fuh...  0.0  0.0      0.0   \n",
      "19                              Draw two card, fatass.  0.0  0.0      0.0   \n",
      "20                               Reverse to you, Jew.   0.0  1.0      0.0   \n",
      "21                                       I'll get it.   1.0  0.0      0.0   \n",
      "23                                          He's back!  0.0  0.0      0.0   \n",
      "24                                               Yeah!  0.0  0.0      0.0   \n",
      "25                                         All right!   0.0  0.0      0.0   \n",
      "26                  Chef! I can't believe you're back!  1.0  0.0      0.0   \n",
      "28                          But are you back for good?  0.0  0.0      0.0   \n",
      "46   Well, I- guess we'll see you in school tomorro...  0.0  0.0      0.0   \n",
      "48                                  Right. Uh, see ya.  0.0  0.0      0.0   \n",
      "49   Uh, guys? Did Chef seem a little, uh, trippy t...  0.0  0.0      0.0   \n",
      "50   Well, look. he said he's happier now. Maybe he...  0.0  0.0      0.0   \n",
      "51   Yeah. I'm sure whatever that Super Adventure C...  1.0  0.0      0.0   \n",
      "52   Yeah, but whatever, I'm just glad he's back fo...  1.0  0.0      0.0   \n",
      "53                                     (Yeah, me too.)  0.0  0.0      0.0   \n",
      "55   Oh boy oh boy, I can't wait to have Chef's lun...  1.0  0.0      0.0   \n",
      "56   Yeah. I hope he makes his Salisbury steak with...  1.0  0.0      0.0   \n",
      "58                                               What?  0.0  0.0      0.0   \n",
      "60                                          Like what?  0.0  0.0      0.0   \n",
      "62                                              What??  0.0  0.0      0.0   \n",
      "64                                            Weirdo.   0.0  0.0      0.0   \n",
      "68                                               Good.  0.0  0.0      0.0   \n",
      "70                                          Excuse me?  0.0  0.0      0.0   \n",
      "72                           ...Chef?? A-are you okay?  0.0  0.0      0.0   \n",
      "74                         Dude, what are you saying??  0.0  0.0      0.0   \n",
      "76                                           ...WHAT??  0.0  0.0      0.0   \n",
      "78                        This doesn't make any sense!  0.0  0.0      0.0   \n",
      "80                                       No, he's not.  0.0  0.0      0.0   \n",
      "82                                       No, he's not.  0.0  0.0      0.0   \n",
      "86                                                 NO!  0.0  0.0      0.0   \n",
      "92   Goddammit, Chef isn't like that! Something fun...  0.0  0.0      0.0   \n",
      "95    Chef, the police are asking questions about you!  0.0  0.0      0.0   \n",
      "97          No, Chef, we don't wanna make love to you!  0.0  0.0      0.0   \n",
      "99   Chef, CHEF! You need to get out of here before...  0.0  0.0      0.0   \n",
      "101  ...Man, I can't believe all this time, Chef ju...  1.0  0.0      0.0   \n",
      "102  He didn't want us for sex, fatass! Something i...  0.0  0.0      0.0   \n",
      "103                                       (Like what?)  0.0  0.0      0.0   \n",
      "104  Something must have happened to Chef while he ...  0.0  0.0      0.0   \n",
      "105  Well look: he spent the last three months with...  0.0  0.0      0.0   \n",
      "106                                 (Yeah! I think...)  1.0  0.0      0.0   \n",
      "107                                              Yeah!  0.0  0.0      0.0   \n",
      "108                           All right, come on guys!  0.0  0.0      0.0   \n",
      "109  Hey you guys, you know what they call a Jewish...  0.0  0.0      0.0   \n",
      "111  Ahh, hi, can we speak to the head guy or somet...  0.0  0.0      0.0   \n",
      "\n",
      "     chicken  but  something  ...    bullshit  gorak  fifth  evil  shelly  \\\n",
      "0        0.0  0.0        0.0  ...         0.0    0.0    0.0   0.0     0.0   \n",
      "1        0.0  0.0        0.0  ...         0.0    0.0    0.0   0.0     0.0   \n",
      "2        0.0  0.0        0.0  ...         0.0    0.0    0.0   0.0     0.0   \n",
      "4        0.0  0.0        0.0  ...         0.0    0.0    0.0   0.0     0.0   \n",
      "9        0.0  0.0        0.0  ...         0.0    0.0    0.0   0.0     0.0   \n",
      "10       0.0  0.0        0.0  ...         0.0    0.0    0.0   0.0     0.0   \n",
      "19       0.0  0.0        0.0  ...         0.0    0.0    0.0   0.0     0.0   \n",
      "20       0.0  0.0        0.0  ...         0.0    0.0    0.0   0.0     0.0   \n",
      "21       0.0  0.0        0.0  ...         0.0    0.0    0.0   0.0     0.0   \n",
      "23       0.0  0.0        0.0  ...         0.0    0.0    0.0   0.0     0.0   \n",
      "24       0.0  0.0        0.0  ...         0.0    0.0    0.0   0.0     0.0   \n",
      "25       0.0  0.0        0.0  ...         0.0    0.0    0.0   0.0     0.0   \n",
      "26       0.0  0.0        0.0  ...         0.0    0.0    0.0   0.0     0.0   \n",
      "28       0.0  1.0        0.0  ...         0.0    0.0    0.0   0.0     0.0   \n",
      "46       0.0  0.0        0.0  ...         0.0    0.0    0.0   0.0     0.0   \n",
      "48       0.0  0.0        0.0  ...         0.0    0.0    0.0   0.0     0.0   \n",
      "49       0.0  0.0        0.0  ...         0.0    0.0    0.0   0.0     0.0   \n",
      "50       0.0  0.0        0.0  ...         0.0    0.0    0.0   0.0     0.0   \n",
      "51       0.0  0.0        0.0  ...         0.0    0.0    0.0   0.0     0.0   \n",
      "52       0.0  0.0        0.0  ...         0.0    0.0    0.0   0.0     0.0   \n",
      "53       0.0  0.0        0.0  ...         0.0    0.0    0.0   0.0     0.0   \n",
      "55       0.0  0.0        0.0  ...         0.0    0.0    0.0   0.0     0.0   \n",
      "56       0.0  0.0        0.0  ...         0.0    0.0    0.0   0.0     0.0   \n",
      "58       0.0  0.0        0.0  ...         0.0    0.0    0.0   0.0     0.0   \n",
      "60       0.0  0.0        0.0  ...         0.0    0.0    0.0   0.0     0.0   \n",
      "62       0.0  0.0        0.0  ...         0.0    0.0    0.0   0.0     0.0   \n",
      "64       0.0  0.0        0.0  ...         0.0    0.0    0.0   0.0     0.0   \n",
      "68       0.0  0.0        0.0  ...         0.0    0.0    0.0   0.0     0.0   \n",
      "70       0.0  0.0        0.0  ...         0.0    0.0    0.0   0.0     0.0   \n",
      "72       0.0  0.0        0.0  ...         0.0    0.0    0.0   0.0     0.0   \n",
      "74       0.0  0.0        0.0  ...         0.0    0.0    0.0   0.0     0.0   \n",
      "76       0.0  0.0        0.0  ...         0.0    0.0    0.0   0.0     0.0   \n",
      "78       0.0  0.0        0.0  ...         0.0    0.0    0.0   0.0     0.0   \n",
      "80       0.0  0.0        0.0  ...         0.0    0.0    0.0   0.0     0.0   \n",
      "82       0.0  0.0        0.0  ...         0.0    0.0    0.0   0.0     0.0   \n",
      "86       0.0  0.0        0.0  ...         0.0    0.0    0.0   0.0     0.0   \n",
      "92       0.0  0.0        1.0  ...         0.0    0.0    0.0   0.0     0.0   \n",
      "95       0.0  0.0        0.0  ...         0.0    0.0    0.0   0.0     0.0   \n",
      "97       0.0  0.0        0.0  ...         0.0    0.0    0.0   0.0     0.0   \n",
      "99       0.0  0.0        0.0  ...         0.0    0.0    0.0   0.0     0.0   \n",
      "101      0.0  0.0        0.0  ...         0.0    0.0    0.0   0.0     0.0   \n",
      "102      0.0  0.0        1.0  ...         0.0    0.0    0.0   0.0     0.0   \n",
      "103      0.0  0.0        0.0  ...         0.0    0.0    0.0   0.0     0.0   \n",
      "104      0.0  0.0        1.0  ...         0.0    0.0    0.0   0.0     0.0   \n",
      "105      0.0  0.0        0.0  ...         0.0    0.0    0.0   0.0     0.0   \n",
      "106      0.0  0.0        0.0  ...         0.0    0.0    0.0   0.0     0.0   \n",
      "107      0.0  0.0        0.0  ...         0.0    0.0    0.0   0.0     0.0   \n",
      "108      0.0  0.0        0.0  ...         0.0    0.0    0.0   0.0     0.0   \n",
      "109      0.0  0.0        0.0  ...         0.0    0.0    0.0   0.0     0.0   \n",
      "111      0.0  0.0        1.0  ...         0.0    0.0    0.0   0.0     0.0   \n",
      "\n",
      "     come   's  profile  grampa  jesus  \n",
      "0     0.0  0.0      0.0     0.0    0.0  \n",
      "1     0.0  0.0      0.0     0.0    0.0  \n",
      "2     0.0  0.0      0.0     0.0    0.0  \n",
      "4     0.0  1.0      0.0     0.0    0.0  \n",
      "9     0.0  0.0      0.0     0.0    0.0  \n",
      "10    0.0  0.0      0.0     0.0    0.0  \n",
      "19    0.0  0.0      0.0     0.0    0.0  \n",
      "20    0.0  0.0      0.0     0.0    0.0  \n",
      "21    0.0  0.0      0.0     0.0    0.0  \n",
      "23    0.0  1.0      0.0     0.0    0.0  \n",
      "24    0.0  0.0      0.0     0.0    0.0  \n",
      "25    0.0  0.0      0.0     0.0    0.0  \n",
      "26    0.0  0.0      0.0     0.0    0.0  \n",
      "28    0.0  0.0      0.0     0.0    0.0  \n",
      "46    0.0  0.0      0.0     0.0    0.0  \n",
      "48    0.0  0.0      0.0     0.0    0.0  \n",
      "49    0.0  0.0      0.0     0.0    0.0  \n",
      "50    0.0  1.0      0.0     0.0    0.0  \n",
      "51    0.0  0.0      0.0     0.0    0.0  \n",
      "52    0.0  1.0      0.0     0.0    0.0  \n",
      "53    0.0  0.0      0.0     0.0    0.0  \n",
      "55    0.0  1.0      0.0     0.0    0.0  \n",
      "56    0.0  0.0      0.0     0.0    0.0  \n",
      "58    0.0  0.0      0.0     0.0    0.0  \n",
      "60    0.0  0.0      0.0     0.0    0.0  \n",
      "62    0.0  0.0      0.0     0.0    0.0  \n",
      "64    0.0  0.0      0.0     0.0    0.0  \n",
      "68    0.0  0.0      0.0     0.0    0.0  \n",
      "70    0.0  0.0      0.0     0.0    0.0  \n",
      "72    0.0  0.0      0.0     0.0    0.0  \n",
      "74    0.0  0.0      0.0     0.0    0.0  \n",
      "76    0.0  0.0      0.0     0.0    0.0  \n",
      "78    0.0  0.0      0.0     0.0    0.0  \n",
      "80    0.0  1.0      0.0     0.0    0.0  \n",
      "82    0.0  1.0      0.0     0.0    0.0  \n",
      "86    0.0  0.0      0.0     0.0    0.0  \n",
      "92    0.0  0.0      0.0     0.0    0.0  \n",
      "95    0.0  0.0      0.0     0.0    0.0  \n",
      "97    0.0  0.0      0.0     0.0    0.0  \n",
      "99    0.0  0.0      0.0     0.0    0.0  \n",
      "101   0.0  0.0      0.0     0.0    0.0  \n",
      "102   0.0  0.0      0.0     0.0    0.0  \n",
      "103   0.0  0.0      0.0     0.0    0.0  \n",
      "104   0.0  0.0      0.0     0.0    0.0  \n",
      "105   0.0  0.0      0.0     0.0    0.0  \n",
      "106   0.0  0.0      0.0     0.0    0.0  \n",
      "107   0.0  0.0      0.0     0.0    0.0  \n",
      "108   1.0  0.0      0.0     0.0    0.0  \n",
      "109   0.0  1.0      0.0     0.0    0.0  \n",
      "111   0.0  0.0      0.0     0.0    0.0  \n",
      "\n",
      "[50 rows x 112 columns]\n"
     ]
    }
   ],
   "source": [
    "data_with_keys = main_char_lines.copy()\n",
    "#print(key_cartman)\n",
    "all_keys = list(itertools.chain.from_iterable([key_cartman, key_kyle, key_kenny, key_stan]))\n",
    "#print(all_keys)\n",
    "#data_with_keys.add(all_keys, axis='columns', fill_value=0)\n",
    "percent = 0\n",
    "for key in all_keys:\n",
    "    #kk = len(all_keys) - \n",
    "    data_with_keys[key] = pd.Series()\n",
    "    for index, line in data_with_keys.iterrows():\n",
    "        #print(line)\n",
    "        if key in set(preprocess(line['Line'])):\n",
    "            data_with_keys.set_value(index, key, 1)\n",
    "        else:\n",
    "            data_with_keys.set_value(index, key, 0)\n",
    "        #pr = \n",
    "\n",
    "print(data_with_keys.head(50))"
   ]
  },
  {
   "cell_type": "markdown",
   "metadata": {},
   "source": [
    "Я понимаю, что лучше бы было счиать только для теста, однако пересчитывать не буду, так как очень долго. разобьем заново и посчитаем логит регрессю."
   ]
  },
  {
   "cell_type": "code",
   "execution_count": 26,
   "metadata": {
    "collapsed": false
   },
   "outputs": [
    {
     "name": "stdout",
     "output_type": "stream",
     "text": [
      "             precision    recall  f1-score   support\n",
      "\n",
      "    Cartman       0.49      0.80      0.60      2045\n",
      "      Kenny       0.36      0.02      0.04       176\n",
      "       Kyle       0.56      0.20      0.30      1509\n",
      "       Stan       0.43      0.38      0.40      1611\n",
      "\n",
      "avg / total       0.49      0.48      0.44      5341\n",
      "\n"
     ]
    }
   ],
   "source": [
    "train_keys, eval_keys = train_test_split(data_with_keys, \n",
    "                                        test_size=0.3, \n",
    "                                        random_state=14)\n",
    "tr_keys, ts_keys = train_test_split(train_keys, \n",
    "                                        test_size=0.3, \n",
    "                                        random_state=14)\n",
    "lr = LogisticRegression()#solver='sag', multi_class='multinomial', n_jobs=-1, max_iter=100)\n",
    "lr.fit(tr_keys.ix[:,4:], tr_keys['Character'])\n",
    "\n",
    "print(classification_report(ts_keys['Character'], lr.predict(ts_keys.ix[:,4:]), target_names=['Cartman', 'Kenny', 'Kyle' , 'Stan']))"
   ]
  },
  {
   "cell_type": "markdown",
   "metadata": {},
   "source": [
    "Результат значительно хуже, чем по веркторам.\n",
    "Теперь подберем оптимальные параметры LogRegression через gridsearch (до этого все параметры подбирались вручную)"
   ]
  },
  {
   "cell_type": "code",
   "execution_count": 31,
   "metadata": {
    "collapsed": false
   },
   "outputs": [
    {
     "name": "stdout",
     "output_type": "stream",
     "text": [
      "{'class_weight': None, 'max_iter': 150, 'penalty': 'l1'} 0.525517573423\n",
      "             precision    recall  f1-score   support\n",
      "\n",
      "    Cartman       0.58      0.70      0.63      2045\n",
      "      Kenny       0.99      0.95      0.97       176\n",
      "       Kyle       0.50      0.29      0.37      1509\n",
      "       Stan       0.46      0.52      0.49      1611\n",
      "\n",
      "avg / total       0.53      0.54      0.53      5341\n",
      "\n",
      "----------------->    final score   <-----------------\n",
      "             precision    recall  f1-score   support\n",
      "\n",
      "    Cartman       0.60      0.67      0.63      2984\n",
      "      Kenny       0.96      0.96      0.96       249\n",
      "       Kyle       0.49      0.31      0.38      2145\n",
      "       Stan       0.42      0.51      0.46      2253\n",
      "\n",
      "avg / total       0.53      0.53      0.52      7631\n",
      "\n"
     ]
    }
   ],
   "source": [
    "from sklearn.model_selection import GridSearchCV\n",
    "\n",
    "lr = LogisticRegression()#solver='sag', multi_class='multinomial', n_jobs=-1, max_iter=100)\n",
    "\n",
    "params = [{'penalty': ['l1','l2'], 'class_weight':[None,'balanced'], 'max_iter':[100, 150, 250]}]\n",
    "clf = GridSearchCV(lr, params)\n",
    "clf.fit(to_train_vec.toarray(), to_train_answ)\n",
    "print(clf.best_params_, clf.best_score_)\n",
    "\n",
    "#lr_top = LogisticRegression(clf.best_params_)\n",
    "#lr_top.fit(tf_train_vec.toarray(), tf_train_answ)\n",
    "print(classification_report(to_test_answ, clf.predict(to_test_vec), target_names=['Cartman', 'Kenny', 'Kyle' , 'Stan']))\n",
    "\n",
    "#и заоодно проверим лучший классификатор на evaluate, так как больше мы его улучшать не будем\n",
    "print('----------------->    final score   <-----------------')\n",
    "print(classification_report(evaluate['Character'], clf.predict(evaluate_vec), target_names=['Cartman', 'Kenny', 'Kyle' , 'Stan']))"
   ]
  },
  {
   "cell_type": "markdown",
   "metadata": {},
   "source": [
    "Видно, что на проверочной выборке показатели немного хуже, но, в целом, результат хороший.\n",
    "Теперь построим матрицу ошибок для лучшей модели."
   ]
  },
  {
   "cell_type": "code",
   "execution_count": 45,
   "metadata": {
    "collapsed": false
   },
   "outputs": [
    {
     "data": {
      "image/png": "[encoded data removed]",
      "text/plain": [
       "<matplotlib.figure.Figure at 0x136427908>"
      ]
     },
     "metadata": {},
     "output_type": "display_data"
    }
   ],
   "source": [
    "from sklearn.metrics import confusion_matrix\n",
    "import matplotlib.pyplot as plt\n",
    "#import seaborn as sns\n",
    "\n",
    "def plot_confusion_matrix(cm, classes,\n",
    "                          title='Confusion matrix',\n",
    "                          cmap=plt.cm.Blues):\n",
    "    plt.imshow(cm, interpolation='nearest', cmap=cmap)\n",
    "    plt.title(title)\n",
    "    plt.colorbar()\n",
    "    tick_marks = np.arange(len(classes))\n",
    "    plt.xticks(tick_marks, classes, rotation=45)\n",
    "    plt.yticks(tick_marks, classes)\n",
    "\n",
    "    thresh = cm.max() / 2.\n",
    "    for i, j in itertools.product(range(cm.shape[0]), range(cm.shape[1])):\n",
    "        plt.text(j, i, cm[i, j],\n",
    "                 horizontalalignment=\"center\",\n",
    "                 color=\"white\" if cm[i, j] > thresh else \"black\")\n",
    "\n",
    "    plt.tight_layout()\n",
    "    plt.ylabel('True label')\n",
    "    plt.xlabel('Predicted label')\n",
    "\n",
    "mat = confusion_matrix(to_train_answ, clf.predict(to_train_vec.toarray()))\n",
    "plt.figure()\n",
    "plot_confusion_matrix(mat, classes=['Cartman', 'Kenny' , 'Kyle' , 'Stan'],\n",
    "                      title='Confusion matrix. Logistic Regression')\n",
    "plt.show()"
   ]
  },
  {
   "cell_type": "markdown",
   "metadata": {},
   "source": [
    "В принципе, получившаяся модель на 20-22% более эффективна, чем beseline. Если посмотреть на коэффициенты модели, то они могут быть положительными и отрицатемльными. В логистической регрессии коэффициенты имеют очень наглядный физический смысл:\n",
    "в матрице, где каждое слово может встретиться в предложении (1), а может не встретиться (0), это число (1 или 0) уменожается на коэффициент. То сеть каждое встретившееся слово в предложении привносит (или отнимает)  свою долю от итогового счета.\n",
    "Коэффициенты есть для каждого героя."
   ]
  }
 ],
 "metadata": {
  "kernelspec": {
   "display_name": "Python 3",
   "language": "python",
   "name": "python3"
  },
  "language_info": {
   "codemirror_mode": {
    "name": "ipython",
    "version": 3
   },
   "file_extension": ".py",
   "mimetype": "text/x-python",
   "name": "python",
   "nbconvert_exporter": "python",
   "pygments_lexer": "ipython3",
   "version": "3.6.0"
  }
 },
 "nbformat": 4,
 "nbformat_minor": 2
}
