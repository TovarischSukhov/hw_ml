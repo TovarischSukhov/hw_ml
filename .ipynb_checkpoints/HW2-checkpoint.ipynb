{
 "cells": [
  {
   "cell_type": "markdown",
   "metadata": {},
   "source": [
    "SMS Spam/Ham dataset.\n",
    "1(+6). Проверить, сбалансирован ли датасет (может быть, наблюдений одного класса слишком много?). Какие результаты покажет dummy classifier, который будет всем новым наблюдениям присваивать класс ham? Насколько плохо такое решение для задачи определения спама?\n",
    "Грубое решение - включить в training set только необходимое число наблюдений (примерно поровну spam и ham). \n",
    "Нормализовать тексты и обучить байесовскую модель (bag of words). Проверить, как влияют на результат:\n",
    "1) разная токенизация: в одном случае знаки препинания удалять, в другом — считать их токенами;\n",
    "2) лемматизация (отсутствие лемматизации, стемминг, лемматизация; инструменты можно использовать любые, например, nltk.stem);\n",
    "3) удаление стоп-слов, а также пороги минимальной и максимальной document frequency;\n",
    "4) векторизация документов (CountVectorizer vs. TfIdfVectorizer);\n",
    "5) что-нибудь ещё?\n",
    "При оценке классификатора обратите внимание на TP и FP.\n",
    "\n",
    "Extra: ограничив количество наблюдений ham в обучающей выборке, мы игнорируем довольно много данных. 1) В цикле: случайно выбрать нужное число писем ham и сконструировать сбалансированную выборку, построить классификатор, оценить и записать результат; в итоге результаты усреднить. 2) поможет ли параметр class prior probability?\n",
    "\n",
    "\n",
    "2(+2). Сравнить результаты байесовского классификатора, решающего дерева и RandomForest. Помимо стандартных метрик оценки качества модели, необходимо построить learning curve, ROC-curve, classification report и интерпретировать эти результаты.\n",
    "\n",
    "3(+2). А что, если в качестве предикторов брать не количество вхождений слов, а конструировать специальные признаки? Прежде всего, необходимо разделить таблицу на training set и test set в соотношении 80:20, test set не открывать до этапа оценки модели. С помощью pandas проверить, отличаются ли перечисленные ниже параметры (иможно придумать другие) для разных классов (spam/ham), и собрать матрицу признаков для обучения. Примеры признаков: длина сообщения, количество букв в ВЕРХНЕМ РЕГИСТРЕ, восклицательных знаков, цифр, запятых, каких-то конкретных слов (для этого можно построить частотный словарь по сообщениям каждого класса). Прокомментировать свой выбор. Векторизовать документы и построить классификатор. Оценить модель на проверочной выборке."
   ]
  },
  {
   "cell_type": "code",
   "execution_count": 1,
   "metadata": {
    "collapsed": false
   },
   "outputs": [
    {
     "name": "stdout",
     "output_type": "stream",
     "text": [
      "                                                        message\n",
      "label                                                          \n",
      "ham   count                                                4825\n",
      "      unique                                               4516\n",
      "      top                                Sorry, I'll call later\n",
      "      freq                                                   30\n",
      "spam  count                                                 747\n",
      "      unique                                                653\n",
      "      top     Please call our customer service representativ...\n",
      "      freq                                                    4\n"
     ]
    }
   ],
   "source": [
    "import pandas\n",
    "import numpy as np\n",
    "import matplotlib.pyplot as plt\n",
    "from nltk import word_tokenize\n",
    "\n",
    "from sklearn.feature_extraction.text import CountVectorizer\n",
    "from sklearn.naive_bayes import MultinomialNB\n",
    "from sklearn.metrics import classification_report, f1_score, accuracy_score, confusion_matrix\n",
    "from sklearn.pipeline import Pipeline\n",
    "from sklearn.model_selection import StratifiedKFold, cross_val_score, train_test_split\n",
    "\n",
    "messages = pandas.read_csv('./smsspamcollection/SMSSpamCollection',\n",
    "                           sep='\\t',\n",
    "                           names=[\"label\", \"message\"])\n",
    "print(messages.groupby('label').describe())"
   ]
  },
  {
   "cell_type": "markdown",
   "metadata": {},
   "source": [
    "видно, что данные чонь несболлансированные,для баллансировки, увеличим коичество spam в 4 раза, просто доавляя по три копии предложения, чтобы не \"резать\" и не сокращать dataset. Потом делим данные на трейн и тест."
   ]
  },
  {
   "cell_type": "code",
   "execution_count": 2,
   "metadata": {
    "collapsed": false
   },
   "outputs": [
    {
     "name": "stdout",
     "output_type": "stream",
     "text": [
      "                                                        message\n",
      "label                                                          \n",
      "ham   count                                                4825\n",
      "      unique                                               4516\n",
      "      top                                Sorry, I'll call later\n",
      "      freq                                                   30\n",
      "spam  count                                                2988\n",
      "      unique                                                653\n",
      "      top     Please call our customer service representativ...\n",
      "      freq                                                   16\n"
     ]
    }
   ],
   "source": [
    "#balansing the data\n",
    "balansed_messages_ = messages.append(messages[messages.label == 'spam'])\n",
    "balansed_messages = balansed_messages_.append(balansed_messages_[balansed_messages_.label == 'spam'])\n",
    "print(balansed_messages.groupby('label').describe())"
   ]
  },
  {
   "cell_type": "code",
   "execution_count": 3,
   "metadata": {
    "collapsed": false
   },
   "outputs": [],
   "source": [
    "#X, y = balansed_messages['message'], balansed_messages['label']\n",
    "train, test = train_test_split(balansed_messages,\n",
    "         test_size=0.2, random_state=42)\n",
    "#print(train)"
   ]
  },
  {
   "cell_type": "code",
   "execution_count": 18,
   "metadata": {
    "collapsed": false
   },
   "outputs": [],
   "source": [
    "from nltk.corpus import stopwords\n",
    "from nltk.tokenize import TweetTokenizer\n",
    "from nltk.stem.wordnet import WordNetLemmatizer\n",
    "from nltk.stem.lancaster import LancasterStemmer\n",
    "import re\n",
    "\n",
    "st = LancasterStemmer()\n",
    "\n",
    "lmtzr = WordNetLemmatizer()\n",
    "tknzr = TweetTokenizer()\n",
    "punct = re.compile(',|\\.|;|:|\\?|\\)|\\(|!')\n",
    "non_letters = re.compile('[^a-zA-Z]')\n",
    "stops = set(stopwords.words(\"english\"))\n",
    "\n",
    "def tokenize_np_nl_ds(text):\n",
    "    #no punctuation, no lemmatisation, delete stops\n",
    "    letters_only = non_letters.sub(\" \", text) \n",
    "    words = letters_only.lower().split()                 \n",
    "    meaningful_words = [w for w in words if w not in stops]   \n",
    "    return meaningful_words \n",
    "\n",
    "def tokenize_np_nl(text):\n",
    "    #delete punctuation, no lemmatisation, leave stops\n",
    "    letters_only = non_letters.sub(\" \", text) \n",
    "    words = letters_only.lower().split()                   \n",
    "    return  words \n",
    "\n",
    "def tokenize_p_nl_ds(text):\n",
    "    #leave punct, no lemmatisation, delete stops\n",
    "    txt = tknzr.tokenize(text)\n",
    "    meaningful_words = [w for w in txt if w not in stops]   \n",
    "    return meaningful_words \n",
    "\n",
    "def tokenize_p_nl(text):\n",
    "    #leave punct, no lemmatisation, leave stops\n",
    "    txt = tknzr.tokenize(text)\n",
    "    return  txt\n",
    "\n",
    "def tokenize_p_l_ds(text):\n",
    "    #leave punct, lemmetize, delete stops\n",
    "    txt = tknzr.tokenize(text)\n",
    "    meaningful_words = [lmtzr.lemmatize(w) for w in txt if w not in stops]   \n",
    "    return  meaningful_words \n",
    "\n",
    "def tokenize_p_l(text):\n",
    "    #leave punct, lemmetize, leave stops\n",
    "    txt = tknzr.tokenize(text) \n",
    "    return [lmtzr.lemmatize(w) for w in txt]\n",
    "\n",
    "def tokenize_np_l_ds(text):\n",
    "    #delete punct, lemmetize, delete stops\n",
    "    txt = non_letters.sub(\" \", text) \n",
    "    # Convert to lower case, split into individual words\n",
    "    words = txt.lower().split()\n",
    "    return  [lmtzr.lemmatize(w) for w in words if w not in stops]\n",
    "\n",
    "def tokenize_np_l(text):\n",
    "    #delete punct, lemmetize, delete stops\n",
    "    txt = non_letters.sub(\" \", text) \n",
    "    # Convert to lower case, split into individual words\n",
    "    words = txt.lower().split()\n",
    "    return  [lmtzr.lemmatize(w) for w in words]\n",
    "\n",
    "\n",
    "\n",
    "#same for stemmatisation\n",
    "def tokenize_p_s_ds(text):\n",
    "    #leave punct, lemmetize, delete stops\n",
    "    txt = tknzr.tokenize(text)\n",
    "    meaningful_words = [st.stem(w) for w in txt if w not in stops]   \n",
    "    return  meaningful_words \n",
    "\n",
    "def tokenize_p_s(text):\n",
    "    #leave punct, lemmetize, leave stops\n",
    "    txt = tknzr.tokenize(text) \n",
    "    return [st.stem(w) for w in txt]\n",
    "\n",
    "def tokenize_np_s_ds(text):\n",
    "    #delete punct, lemmetize, delete stops\n",
    "    txt = non_letters.sub(\" \", text) \n",
    "    # Convert to lower case, split into individual words\n",
    "    words = txt.lower().split()\n",
    "    return  [st.stem(w) for w in words if w not in stops]\n",
    "\n",
    "def tokenize_np_s(text):\n",
    "    #delete punct, lemmetize, delete stops\n",
    "    txt = non_letters.sub(\" \", text) \n",
    "    # Convert to lower case, split into individual words\n",
    "    words = txt.lower().split()\n",
    "    return  [st.stem(w) for w in words]\n"
   ]
  },
  {
   "cell_type": "code",
   "execution_count": 25,
   "metadata": {
    "collapsed": false,
    "scrolled": false
   },
   "outputs": [
    {
     "name": "stdout",
     "output_type": "stream",
     "text": [
      "\n",
      "For CountVectoriser and for <function tokenize_np_nl_ds at 0x120001158>\n",
      "accuracy_score is:    0.978886756238\n",
      "------------->  tfidf  <------------\n",
      "accuracy_score is:    0.980806142035\n",
      "\n",
      "For CountVectoriser and for <function tokenize_np_nl at 0x120001730>\n",
      "accuracy_score is:    0.982085732566\n",
      "------------->  tfidf  <------------\n",
      "accuracy_score is:    0.984644913628\n",
      "\n",
      "For CountVectoriser and for <function tokenize_p_nl_ds at 0x120001400>\n",
      "accuracy_score is:    0.982725527831\n",
      "------------->  tfidf  <------------\n",
      "accuracy_score is:    0.985284708893\n",
      "\n",
      "For CountVectoriser and for <function tokenize_p_nl at 0x1200017b8>\n",
      "accuracy_score is:    0.98720409469\n",
      "------------->  tfidf  <------------\n",
      "accuracy_score is:    0.985284708893\n",
      "\n",
      "For CountVectoriser and for <function tokenize_p_l_ds at 0x120001d90>\n",
      "accuracy_score is:    0.983365323097\n",
      "------------->  tfidf  <------------\n",
      "accuracy_score is:    0.985284708893\n",
      "\n",
      "For CountVectoriser and for <function tokenize_p_l at 0x120001b70>\n",
      "accuracy_score is:    0.987843889955\n",
      "------------->  tfidf  <------------\n",
      "accuracy_score is:    0.985924504159\n",
      "\n",
      "For CountVectoriser and for <function tokenize_np_l_ds at 0x1200011e0>\n",
      "accuracy_score is:    0.980166346769\n",
      "------------->  tfidf  <------------\n",
      "accuracy_score is:    0.982725527831\n",
      "\n",
      "For CountVectoriser and for <function tokenize_np_l at 0x1200019d8>\n",
      "accuracy_score is:    0.980806142035\n",
      "------------->  tfidf  <------------\n",
      "accuracy_score is:    0.982085732566\n",
      "\n",
      "For CountVectoriser and for <function tokenize_p_s_ds at 0x120001ae8>\n",
      "accuracy_score is:    0.982725527831\n",
      "------------->  tfidf  <------------\n",
      "accuracy_score is:    0.983365323097\n",
      "\n",
      "For CountVectoriser and for <function tokenize_p_s at 0x120001a60>\n",
      "accuracy_score is:    0.986564299424\n",
      "------------->  tfidf  <------------\n",
      "accuracy_score is:    0.983365323097\n",
      "\n",
      "For CountVectoriser and for <function tokenize_np_s_ds at 0x120001ea0>\n",
      "accuracy_score is:    0.974408189379\n",
      "------------->  tfidf  <------------\n",
      "accuracy_score is:    0.976327575176\n",
      "\n",
      "For CountVectoriser and for <function tokenize_np_s at 0x1200010d0>\n",
      "accuracy_score is:    0.980166346769\n",
      "------------->  tfidf  <------------\n",
      "accuracy_score is:    0.978246960972\n",
      "The best combo:\n",
      "<class 'list'>\n",
      "\n"
     ]
    }
   ],
   "source": [
    "from sklearn.feature_extraction.text import TfidfVectorizer\n",
    "\n",
    "parametrs = [tokenize_np_nl_ds,\n",
    "            tokenize_np_nl,\n",
    "            tokenize_p_nl_ds,\n",
    "            tokenize_p_nl,\n",
    "            tokenize_p_l_ds,\n",
    "            tokenize_p_l,\n",
    "            tokenize_np_l_ds,\n",
    "            tokenize_np_l,\n",
    "            tokenize_p_s_ds,\n",
    "            tokenize_p_s,\n",
    "            tokenize_np_s_ds,\n",
    "            tokenize_np_s,\n",
    "            ]\n",
    "\n",
    "#cv = CountVectorizer()\n",
    "#gs = (cv, [{'analyzer':'word','tokenizer':parametrs}])\n",
    "\n",
    "clf = MultinomialNB()\n",
    "all_params = {}\n",
    "for param in parametrs:\n",
    "    cv = CountVectorizer(analyzer='word', tokenizer=param)\n",
    "    cv.fit_transform(balansed_messages['message'])\n",
    "    transformed_train = cv.transform(train['message'])\n",
    "    transformed_test = cv.transform(test['message'])\n",
    "    clf.fit(transformed_train, train['label'])\n",
    "    print()\n",
    "    print('For CountVectoriser and for '+ str(param))\n",
    "    print('accuracy_score is:    '+ str(accuracy_score(test['label'], clf.predict(transformed_test))))\n",
    "    all_params[accuracy_score( clf.predict(transformed_test), test['label'])] = str(param) + '  +  count'\n",
    "    print('------------->  tfidf  <------------')\n",
    "    \n",
    "    tcv = TfidfVectorizer(analyzer='word', tokenizer=param)\n",
    "    tcv.fit_transform(balansed_messages['message'])\n",
    "    transformed_train = tcv.transform(train['message'])\n",
    "    transformed_test = tcv.transform(test['message'])\n",
    "    clf.fit(transformed_train, train['label'])\n",
    "    print('accuracy_score is:    '+ str(accuracy_score( test['label'], clf.predict(transformed_test))))\n",
    "    all_params[accuracy_score( clf.predict(transformed_test), test['label'])] = str(param) + '  +  tfidf'\n"
   ]
  },
  {
   "cell_type": "code",
   "execution_count": 28,
   "metadata": {
    "collapsed": false
   },
   "outputs": [
    {
     "name": "stdout",
     "output_type": "stream",
     "text": [
      "The best combo:\n",
      "<function tokenize_p_l at 0x120001b70>  +  count\n"
     ]
    }
   ],
   "source": [
    "print('The best combo:')\n",
    "print(all_params[sorted(all_params)[len(all_params)-1]])"
   ]
  },
  {
   "cell_type": "markdown",
   "metadata": {},
   "source": [
    "как мы видим выше, лучшая обработка - лемматизация без удаления стоп слов и пунктуации. Что, наверное, логично, так как в спам-сообщениях, может быть измененная пунктуация и много стоп слов.\n",
    "\n",
    "Теперь на лучшей обработке построим бейзлайн"
   ]
  },
  {
   "cell_type": "code",
   "execution_count": 29,
   "metadata": {
    "collapsed": false
   },
   "outputs": [
    {
     "name": "stdout",
     "output_type": "stream",
     "text": [
      "             precision    recall  f1-score   support\n",
      "\n",
      "       spam       0.62      0.61      0.62       973\n",
      "        ham       0.38      0.39      0.39       590\n",
      "\n",
      "avg / total       0.53      0.53      0.53      1563\n",
      "\n"
     ]
    }
   ],
   "source": [
    "from sklearn.dummy import DummyClassifier\n",
    "\n",
    "cv = CountVectorizer(analyzer='word', tokenizer=tokenize_p_l)\n",
    "cv.fit_transform(balansed_messages['message'])\n",
    "transformed_train = cv.transform(train['message'])\n",
    "transformed_test = cv.transform(test['message'])\n",
    "\n",
    "\n",
    "dc = DummyClassifier()\n",
    "dc.fit(transformed_train, train['label'])\n",
    "\n",
    "print(classification_report(test['label'], dc.predict(transformed_test), target_names=['spam', 'ham']))"
   ]
  },
  {
   "cell_type": "code",
   "execution_count": 31,
   "metadata": {
    "collapsed": false
   },
   "outputs": [
    {
     "name": "stdout",
     "output_type": "stream",
     "text": [
      "             precision    recall  f1-score   support\n",
      "\n",
      "        ham       1.00      0.98      0.99       973\n",
      "       spam       0.97      1.00      0.99       590\n",
      "\n",
      "avg / total       0.99      0.99      0.99      1563\n",
      "\n",
      "             precision    recall  f1-score   support\n",
      "\n",
      "        ham       1.00      1.00      1.00       973\n",
      "       spam       1.00      1.00      1.00       590\n",
      "\n",
      "avg / total       1.00      1.00      1.00      1563\n",
      "\n"
     ]
    }
   ],
   "source": [
    "from sklearn.model_selection import learning_curve\n",
    "from sklearn.tree import DecisionTreeClassifier\n",
    "from sklearn.ensemble import RandomForestClassifier\n",
    "\n",
    "#train DecisionTreeClassifier\n",
    "dtc = DecisionTreeClassifier()\n",
    "dtc.fit(transformed_train, train['label'])\n",
    "print(classification_report(test['label'], dtc.predict(transformed_test)))\n",
    "\n",
    "#train RandomForestClassifier\n",
    "rfc = RandomForestClassifier()\n",
    "rfc.fit(transformed_train, train['label'])\n",
    "print(classification_report(test['label'], rfc.predict(transformed_test)))"
   ]
  },
  {
   "cell_type": "code",
   "execution_count": 34,
   "metadata": {
    "collapsed": true
   },
   "outputs": [],
   "source": [
    "def plot_learning_curve(estimator, title, X, y, ylim=None, cv=None,\n",
    "                        n_jobs=1, train_sizes=np.linspace(.1, 1.0, 5)):\n",
    "\n",
    "    plt.figure()\n",
    "    plt.title(title)\n",
    "    if ylim is not None:\n",
    "        plt.ylim(*ylim)\n",
    "    plt.xlabel(\"Training examples\")\n",
    "    plt.ylabel(\"Score\")\n",
    "    train_sizes, train_scores, test_scores = learning_curve(\n",
    "        estimator, X, y, cv=cv, n_jobs=n_jobs, train_sizes=train_sizes)\n",
    "    train_scores_mean = np.mean(train_scores, axis=1)\n",
    "    train_scores_std = np.std(train_scores, axis=1)\n",
    "    test_scores_mean = np.mean(test_scores, axis=1)\n",
    "    test_scores_std = np.std(test_scores, axis=1)\n",
    "    plt.grid()\n",
    "\n",
    "    plt.fill_between(train_sizes, train_scores_mean - train_scores_std,\n",
    "                     train_scores_mean + train_scores_std, alpha=0.1,\n",
    "                     color=\"r\")\n",
    "    plt.fill_between(train_sizes, test_scores_mean - test_scores_std,\n",
    "                     test_scores_mean + test_scores_std, alpha=0.1, color=\"g\")\n",
    "    plt.plot(train_sizes, train_scores_mean, 'o-', color=\"r\",\n",
    "             label=\"Training score\")\n",
    "    plt.plot(train_sizes, test_scores_mean, 'o-', color=\"g\",\n",
    "             label=\"Cross-validation score\")\n",
    "\n",
    "    plt.legend(loc=\"best\")\n",
    "    return plt"
   ]
  },
  {
   "cell_type": "code",
   "execution_count": 37,
   "metadata": {
    "collapsed": false
   },
   "outputs": [
    {
     "data": {
      "image/png": "[encoded data removed]",
      "text/plain": [
       "<matplotlib.figure.Figure at 0x11adfd0b8>"
      ]
     },
     "metadata": {},
     "output_type": "display_data"
    }
   ],
   "source": [
    "from sklearn.model_selection import learning_curve, ShuffleSplit\n",
    "\n",
    "cv = ShuffleSplit(n_splits=10, test_size=0.2, random_state=0)\n",
    "estimator = MultinomialNB()\n",
    "plot_learning_curve(estimator, 'Naive Bayes', transformed_train.toarray(),\n",
    "                    train['label'], ylim=(0.7, 1.01), cv=cv, n_jobs=4)\n",
    "plt.show()"
   ]
  },
  {
   "cell_type": "code",
   "execution_count": 40,
   "metadata": {
    "collapsed": false
   },
   "outputs": [
    {
     "ename": "IndexError",
     "evalue": "too many indices for array",
     "output_type": "error",
     "traceback": [
      "\u001b[0;31m---------------------------------------------------------------------------\u001b[0m",
      "\u001b[0;31mIndexError\u001b[0m                                Traceback (most recent call last)",
      "\u001b[0;32m<ipython-input-40-d3953eb41a31>\u001b[0m in \u001b[0;36m<module>\u001b[0;34m()\u001b[0m\n\u001b[1;32m      6\u001b[0m \u001b[0my_true\u001b[0m \u001b[0;34m=\u001b[0m \u001b[0mtest\u001b[0m\u001b[0;34m[\u001b[0m\u001b[0;34m'label'\u001b[0m\u001b[0;34m]\u001b[0m\u001b[0;34m\u001b[0m\u001b[0m\n\u001b[1;32m      7\u001b[0m \u001b[0my_probas\u001b[0m \u001b[0;34m=\u001b[0m \u001b[0mclf\u001b[0m\u001b[0;34m.\u001b[0m\u001b[0mpredict\u001b[0m\u001b[0;34m(\u001b[0m\u001b[0mtransformed_train\u001b[0m\u001b[0;34m)\u001b[0m\u001b[0;34m\u001b[0m\u001b[0m\n\u001b[0;32m----> 8\u001b[0;31m \u001b[0mskplt\u001b[0m\u001b[0;34m.\u001b[0m\u001b[0mplot_roc_curve\u001b[0m\u001b[0;34m(\u001b[0m\u001b[0my_true\u001b[0m\u001b[0;34m,\u001b[0m \u001b[0my_probas\u001b[0m\u001b[0;34m)\u001b[0m\u001b[0;34m\u001b[0m\u001b[0m\n\u001b[0m\u001b[1;32m      9\u001b[0m \u001b[0mplt\u001b[0m\u001b[0;34m.\u001b[0m\u001b[0mshow\u001b[0m\u001b[0;34m(\u001b[0m\u001b[0;34m)\u001b[0m\u001b[0;34m\u001b[0m\u001b[0m\n",
      "\u001b[0;32m/Users/Ksenia/anaconda/lib/python3.6/site-packages/scikitplot/plotters.py\u001b[0m in \u001b[0;36mplot_roc_curve\u001b[0;34m(y_true, y_probas, title, curves, ax, figsize, title_fontsize, text_fontsize)\u001b[0m\n\u001b[1;32m    163\u001b[0m     \u001b[0mroc_auc\u001b[0m \u001b[0;34m=\u001b[0m \u001b[0mdict\u001b[0m\u001b[0;34m(\u001b[0m\u001b[0;34m)\u001b[0m\u001b[0;34m\u001b[0m\u001b[0m\n\u001b[1;32m    164\u001b[0m     \u001b[0;32mfor\u001b[0m \u001b[0mi\u001b[0m \u001b[0;32min\u001b[0m \u001b[0mrange\u001b[0m\u001b[0;34m(\u001b[0m\u001b[0mlen\u001b[0m\u001b[0;34m(\u001b[0m\u001b[0mclasses\u001b[0m\u001b[0;34m)\u001b[0m\u001b[0;34m)\u001b[0m\u001b[0;34m:\u001b[0m\u001b[0;34m\u001b[0m\u001b[0m\n\u001b[0;32m--> 165\u001b[0;31m         \u001b[0mfpr\u001b[0m\u001b[0;34m[\u001b[0m\u001b[0mi\u001b[0m\u001b[0;34m]\u001b[0m\u001b[0;34m,\u001b[0m \u001b[0mtpr\u001b[0m\u001b[0;34m[\u001b[0m\u001b[0mi\u001b[0m\u001b[0;34m]\u001b[0m\u001b[0;34m,\u001b[0m \u001b[0m_\u001b[0m \u001b[0;34m=\u001b[0m \u001b[0mroc_curve\u001b[0m\u001b[0;34m(\u001b[0m\u001b[0my_true\u001b[0m\u001b[0;34m,\u001b[0m \u001b[0mprobas\u001b[0m\u001b[0;34m[\u001b[0m\u001b[0;34m:\u001b[0m\u001b[0;34m,\u001b[0m \u001b[0mi\u001b[0m\u001b[0;34m]\u001b[0m\u001b[0;34m,\u001b[0m \u001b[0mpos_label\u001b[0m\u001b[0;34m=\u001b[0m\u001b[0mclasses\u001b[0m\u001b[0;34m[\u001b[0m\u001b[0mi\u001b[0m\u001b[0;34m]\u001b[0m\u001b[0;34m)\u001b[0m\u001b[0;34m\u001b[0m\u001b[0m\n\u001b[0m\u001b[1;32m    166\u001b[0m         \u001b[0mroc_auc\u001b[0m\u001b[0;34m[\u001b[0m\u001b[0mi\u001b[0m\u001b[0;34m]\u001b[0m \u001b[0;34m=\u001b[0m \u001b[0mauc\u001b[0m\u001b[0;34m(\u001b[0m\u001b[0mfpr\u001b[0m\u001b[0;34m[\u001b[0m\u001b[0mi\u001b[0m\u001b[0;34m]\u001b[0m\u001b[0;34m,\u001b[0m \u001b[0mtpr\u001b[0m\u001b[0;34m[\u001b[0m\u001b[0mi\u001b[0m\u001b[0;34m]\u001b[0m\u001b[0;34m)\u001b[0m\u001b[0;34m\u001b[0m\u001b[0m\n\u001b[1;32m    167\u001b[0m \u001b[0;34m\u001b[0m\u001b[0m\n",
      "\u001b[0;31mIndexError\u001b[0m: too many indices for array"
     ]
    }
   ],
   "source": [
    "import scikitplot.plotters as skplt\n",
    "import matplotlib.pyplot as plt\n",
    "\n",
    "clf = MultinomialNB()\n",
    "clf.fit(transformed_train, train['label'])\n",
    "y_true = test['label']\n",
    "y_probas = clf.predict(transformed_train)\n",
    "skplt.plot_roc_curve(y_true, y_probas)\n",
    "plt.show()"
   ]
  }
 ],
 "metadata": {
  "kernelspec": {
   "display_name": "Python 3",
   "language": "python",
   "name": "python3"
  },
  "language_info": {
   "codemirror_mode": {
    "name": "ipython",
    "version": 3
   },
   "file_extension": ".py",
   "mimetype": "text/x-python",
   "name": "python",
   "nbconvert_exporter": "python",
   "pygments_lexer": "ipython3",
   "version": "3.6.0"
  }
 },
 "nbformat": 4,
 "nbformat_minor": 2
}
