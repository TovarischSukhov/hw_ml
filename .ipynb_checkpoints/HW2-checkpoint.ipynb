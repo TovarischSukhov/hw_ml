{
 "cells": [
  {
   "cell_type": "markdown",
   "metadata": {},
   "source": [
    "SMS Spam/Ham dataset.\n",
    "1(+6). Проверить, сбалансирован ли датасет (может быть, наблюдений одного класса слишком много?). Какие результаты покажет dummy classifier, который будет всем новым наблюдениям присваивать класс ham? Насколько плохо такое решение для задачи определения спама?\n",
    "Грубое решение - включить в training set только необходимое число наблюдений (примерно поровну spam и ham). \n",
    "Нормализовать тексты и обучить байесовскую модель (bag of words). Проверить, как влияют на результат:\n",
    "1) разная токенизация: в одном случае знаки препинания удалять, в другом — считать их токенами;\n",
    "2) лемматизация (отсутствие лемматизации, стемминг, лемматизация; инструменты можно использовать любые, например, nltk.stem);\n",
    "3) удаление стоп-слов, а также пороги минимальной и максимальной document frequency;\n",
    "4) векторизация документов (CountVectorizer vs. TfIdfVectorizer);\n",
    "5) что-нибудь ещё?\n",
    "При оценке классификатора обратите внимание на TP и FP.\n",
    "\n",
    "Extra: ограничив количество наблюдений ham в обучающей выборке, мы игнорируем довольно много данных. 1) В цикле: случайно выбрать нужное число писем ham и сконструировать сбалансированную выборку, построить классификатор, оценить и записать результат; в итоге результаты усреднить. 2) поможет ли параметр class prior probability?\n",
    "\n",
    "\n",
    "2(+2). Сравнить результаты байесовского классификатора, решающего дерева и RandomForest. Помимо стандартных метрик оценки качества модели, необходимо построить learning curve, ROC-curve, classification report и интерпретировать эти результаты.\n",
    "\n",
    "3(+2). А что, если в качестве предикторов брать не количество вхождений слов, а конструировать специальные признаки? Прежде всего, необходимо разделить таблицу на training set и test set в соотношении 80:20, test set не открывать до этапа оценки модели. С помощью pandas проверить, отличаются ли перечисленные ниже параметры (иможно придумать другие) для разных классов (spam/ham), и собрать матрицу признаков для обучения. Примеры признаков: длина сообщения, количество букв в ВЕРХНЕМ РЕГИСТРЕ, восклицательных знаков, цифр, запятых, каких-то конкретных слов (для этого можно построить частотный словарь по сообщениям каждого класса). Прокомментировать свой выбор. Векторизовать документы и построить классификатор. Оценить модель на проверочной выборке."
   ]
  },
  {
   "cell_type": "code",
   "execution_count": 1,
   "metadata": {
    "collapsed": false
   },
   "outputs": [
    {
     "name": "stdout",
     "output_type": "stream",
     "text": [
      "                                                        message\n",
      "label                                                          \n",
      "ham   count                                                4825\n",
      "      unique                                               4516\n",
      "      top                                Sorry, I'll call later\n",
      "      freq                                                   30\n",
      "spam  count                                                 747\n",
      "      unique                                                653\n",
      "      top     Please call our customer service representativ...\n",
      "      freq                                                    4\n"
     ]
    }
   ],
   "source": [
    "import pandas as pd\n",
    "import numpy as np\n",
    "import matplotlib.pyplot as plt\n",
    "from nltk import word_tokenize\n",
    "\n",
    "from sklearn.feature_extraction.text import CountVectorizer\n",
    "from sklearn.naive_bayes import MultinomialNB\n",
    "from sklearn.metrics import classification_report, f1_score, accuracy_score, confusion_matrix\n",
    "from sklearn.pipeline import Pipeline\n",
    "from sklearn.model_selection import StratifiedKFold, cross_val_score, train_test_split\n",
    "\n",
    "messages = pd.read_csv('./smsspamcollection/SMSSpamCollection',\n",
    "                           sep='\\t',\n",
    "                           names=[\"label\", \"message\"])\n",
    "print(messages.groupby('label').describe())"
   ]
  },
  {
   "cell_type": "markdown",
   "metadata": {},
   "source": [
    "видно, что данные чонь несболлансированные,для баллансировки, увеличим коичество spam в 4 раза, просто доавляя по три копии предложения, чтобы не \"резать\" и не сокращать dataset. Потом делим данные на трейн и тест."
   ]
  },
  {
   "cell_type": "code",
   "execution_count": 2,
   "metadata": {
    "collapsed": false
   },
   "outputs": [
    {
     "name": "stdout",
     "output_type": "stream",
     "text": [
      "                                                        message\n",
      "label                                                          \n",
      "ham   count                                                4825\n",
      "      unique                                               4516\n",
      "      top                                Sorry, I'll call later\n",
      "      freq                                                   30\n",
      "spam  count                                                2988\n",
      "      unique                                                653\n",
      "      top     Please call our customer service representativ...\n",
      "      freq                                                   16\n"
     ]
    }
   ],
   "source": [
    "#balansing the data\n",
    "balansed_messages_ = messages.append(messages[messages.label == 'spam'], ignore_index=True)\n",
    "balansed_messages = balansed_messages_.append(balansed_messages_[balansed_messages_.label == 'spam'], ignore_index=True)\n",
    "print(balansed_messages.groupby('label').describe())\n",
    "#print(balansed_messages.loc[4680])"
   ]
  },
  {
   "cell_type": "code",
   "execution_count": 3,
   "metadata": {
    "collapsed": false
   },
   "outputs": [],
   "source": [
    "#X, y = balansed_messages['message'], balansed_messages['label']\n",
    "train, test = train_test_split(balansed_messages,\n",
    "         test_size=0.2, random_state=42)\n",
    "#print(train)"
   ]
  },
  {
   "cell_type": "code",
   "execution_count": 4,
   "metadata": {
    "collapsed": false
   },
   "outputs": [],
   "source": [
    "from nltk.corpus import stopwords\n",
    "from nltk.tokenize import TweetTokenizer\n",
    "from nltk.stem.wordnet import WordNetLemmatizer\n",
    "from nltk.stem.lancaster import LancasterStemmer\n",
    "import re\n",
    "\n",
    "st = LancasterStemmer()\n",
    "\n",
    "lmtzr = WordNetLemmatizer()\n",
    "tknzr = TweetTokenizer()\n",
    "punct = re.compile(',|\\.|;|:|\\?|\\)|\\(|!')\n",
    "non_letters = re.compile('[^a-zA-Z]')\n",
    "stops = set(stopwords.words(\"english\"))\n",
    "\n",
    "def tokenize_np_nl_ds(text):\n",
    "    #no punctuation, no lemmatisation, delete stops\n",
    "    letters_only = non_letters.sub(\" \", text) \n",
    "    words = letters_only.lower().split()                 \n",
    "    meaningful_words = [w for w in words if w not in stops]   \n",
    "    return meaningful_words \n",
    "\n",
    "def tokenize_np_nl(text):\n",
    "    #delete punctuation, no lemmatisation, leave stops\n",
    "    letters_only = non_letters.sub(\" \", text) \n",
    "    words = letters_only.lower().split()                   \n",
    "    return  words \n",
    "\n",
    "def tokenize_p_nl_ds(text):\n",
    "    #leave punct, no lemmatisation, delete stops\n",
    "    txt = tknzr.tokenize(text)\n",
    "    meaningful_words = [w for w in txt if w not in stops]   \n",
    "    return meaningful_words \n",
    "\n",
    "def tokenize_p_nl(text):\n",
    "    #leave punct, no lemmatisation, leave stops\n",
    "    txt = tknzr.tokenize(text)\n",
    "    return  txt\n",
    "\n",
    "def tokenize_p_l_ds(text):\n",
    "    #leave punct, lemmetize, delete stops\n",
    "    txt = tknzr.tokenize(text)\n",
    "    meaningful_words = [lmtzr.lemmatize(w) for w in txt if w not in stops]   \n",
    "    return  meaningful_words \n",
    "\n",
    "def tokenize_p_l(text):\n",
    "    #leave punct, lemmetize, leave stops\n",
    "    txt = tknzr.tokenize(text) \n",
    "    return [lmtzr.lemmatize(w) for w in txt]\n",
    "\n",
    "def tokenize_np_l_ds(text):\n",
    "    #delete punct, lemmetize, delete stops\n",
    "    txt = non_letters.sub(\" \", text) \n",
    "    # Convert to lower case, split into individual words\n",
    "    words = txt.lower().split()\n",
    "    return  [lmtzr.lemmatize(w) for w in words if w not in stops]\n",
    "\n",
    "def tokenize_np_l(text):\n",
    "    #delete punct, lemmetize, delete stops\n",
    "    txt = non_letters.sub(\" \", text) \n",
    "    # Convert to lower case, split into individual words\n",
    "    words = txt.lower().split()\n",
    "    return  [lmtzr.lemmatize(w) for w in words]\n",
    "\n",
    "\n",
    "\n",
    "#same for stemmatisation\n",
    "def tokenize_p_s_ds(text):\n",
    "    #leave punct, lemmetize, delete stops\n",
    "    txt = tknzr.tokenize(text)\n",
    "    meaningful_words = [st.stem(w) for w in txt if w not in stops]   \n",
    "    return  meaningful_words \n",
    "\n",
    "def tokenize_p_s(text):\n",
    "    #leave punct, lemmetize, leave stops\n",
    "    txt = tknzr.tokenize(text) \n",
    "    return [st.stem(w) for w in txt]\n",
    "\n",
    "def tokenize_np_s_ds(text):\n",
    "    #delete punct, lemmetize, delete stops\n",
    "    txt = non_letters.sub(\" \", text) \n",
    "    # Convert to lower case, split into individual words\n",
    "    words = txt.lower().split()\n",
    "    return  [st.stem(w) for w in words if w not in stops]\n",
    "\n",
    "def tokenize_np_s(text):\n",
    "    #delete punct, lemmetize, delete stops\n",
    "    txt = non_letters.sub(\" \", text) \n",
    "    # Convert to lower case, split into individual words\n",
    "    words = txt.lower().split()\n",
    "    return  [st.stem(w) for w in words]\n"
   ]
  },
  {
   "cell_type": "code",
   "execution_count": 5,
   "metadata": {
    "collapsed": false,
    "scrolled": false
   },
   "outputs": [
    {
     "name": "stdout",
     "output_type": "stream",
     "text": [
      "\n",
      "For CountVectoriser and for <function tokenize_np_nl_ds at 0x115dd9f28>\n",
      "accuracy_score is:    0.978886756238\n",
      "------------->  tfidf  <------------\n",
      "accuracy_score is:    0.980806142035\n",
      "\n",
      "For CountVectoriser and for <function tokenize_np_nl at 0x11b1eff28>\n",
      "accuracy_score is:    0.982085732566\n",
      "------------->  tfidf  <------------\n",
      "accuracy_score is:    0.984644913628\n",
      "\n",
      "For CountVectoriser and for <function tokenize_p_nl_ds at 0x11b1efea0>\n",
      "accuracy_score is:    0.982725527831\n",
      "------------->  tfidf  <------------\n",
      "accuracy_score is:    0.985284708893\n",
      "\n",
      "For CountVectoriser and for <function tokenize_p_nl at 0x11b1efe18>\n",
      "accuracy_score is:    0.98720409469\n",
      "------------->  tfidf  <------------\n",
      "accuracy_score is:    0.985284708893\n",
      "\n",
      "For CountVectoriser and for <function tokenize_p_l_ds at 0x11b1efd90>\n",
      "accuracy_score is:    0.983365323097\n",
      "------------->  tfidf  <------------\n",
      "accuracy_score is:    0.985284708893\n",
      "\n",
      "For CountVectoriser and for <function tokenize_p_l at 0x11b1efd08>\n",
      "accuracy_score is:    0.987843889955\n",
      "------------->  tfidf  <------------\n",
      "accuracy_score is:    0.985924504159\n",
      "\n",
      "For CountVectoriser and for <function tokenize_np_l_ds at 0x11b1efc80>\n",
      "accuracy_score is:    0.980166346769\n",
      "------------->  tfidf  <------------\n",
      "accuracy_score is:    0.982725527831\n",
      "\n",
      "For CountVectoriser and for <function tokenize_np_l at 0x11b1efbf8>\n",
      "accuracy_score is:    0.980806142035\n",
      "------------->  tfidf  <------------\n",
      "accuracy_score is:    0.982085732566\n",
      "\n",
      "For CountVectoriser and for <function tokenize_p_s_ds at 0x11b1efb70>\n",
      "accuracy_score is:    0.982725527831\n",
      "------------->  tfidf  <------------\n",
      "accuracy_score is:    0.983365323097\n",
      "\n",
      "For CountVectoriser and for <function tokenize_p_s at 0x11b1efae8>\n",
      "accuracy_score is:    0.986564299424\n",
      "------------->  tfidf  <------------\n",
      "accuracy_score is:    0.983365323097\n",
      "\n",
      "For CountVectoriser and for <function tokenize_np_s_ds at 0x11b1efa60>\n",
      "accuracy_score is:    0.974408189379\n",
      "------------->  tfidf  <------------\n",
      "accuracy_score is:    0.976327575176\n",
      "\n",
      "For CountVectoriser and for <function tokenize_np_s at 0x11b1ef9d8>\n",
      "accuracy_score is:    0.980166346769\n",
      "------------->  tfidf  <------------\n",
      "accuracy_score is:    0.978246960972\n"
     ]
    }
   ],
   "source": [
    "from sklearn.feature_extraction.text import TfidfVectorizer\n",
    "\n",
    "parametrs = [tokenize_np_nl_ds,\n",
    "            tokenize_np_nl,\n",
    "            tokenize_p_nl_ds,\n",
    "            tokenize_p_nl,\n",
    "            tokenize_p_l_ds,\n",
    "            tokenize_p_l,\n",
    "            tokenize_np_l_ds,\n",
    "            tokenize_np_l,\n",
    "            tokenize_p_s_ds,\n",
    "            tokenize_p_s,\n",
    "            tokenize_np_s_ds,\n",
    "            tokenize_np_s,\n",
    "            ]\n",
    "\n",
    "#cv = CountVectorizer()\n",
    "#gs = (cv, [{'analyzer':'word','tokenizer':parametrs}])\n",
    "\n",
    "clf = MultinomialNB()\n",
    "all_params = {}\n",
    "for param in parametrs:\n",
    "    cv = CountVectorizer(analyzer='word', tokenizer=param)\n",
    "    cv.fit_transform(balansed_messages['message'])\n",
    "    transformed_train = cv.transform(train['message'])\n",
    "    transformed_test = cv.transform(test['message'])\n",
    "    clf.fit(transformed_train, train['label'])\n",
    "    print()\n",
    "    print('For CountVectoriser and for '+ str(param))\n",
    "    print('accuracy_score is:    '+ str(accuracy_score(test['label'], clf.predict(transformed_test))))\n",
    "    all_params[accuracy_score( clf.predict(transformed_test), test['label'])] = str(param) + '  +  count'\n",
    "    print('------------->  tfidf  <------------')\n",
    "    \n",
    "    tcv = TfidfVectorizer(analyzer='word', tokenizer=param)\n",
    "    tcv.fit_transform(balansed_messages['message'])\n",
    "    transformed_train = tcv.transform(train['message'])\n",
    "    transformed_test = tcv.transform(test['message'])\n",
    "    clf.fit(transformed_train, train['label'])\n",
    "    print('accuracy_score is:    '+ str(accuracy_score( test['label'], clf.predict(transformed_test))))\n",
    "    all_params[accuracy_score( clf.predict(transformed_test), test['label'])] = str(param) + '  +  tfidf'\n"
   ]
  },
  {
   "cell_type": "code",
   "execution_count": 6,
   "metadata": {
    "collapsed": false
   },
   "outputs": [
    {
     "name": "stdout",
     "output_type": "stream",
     "text": [
      "The best combo:\n",
      "<function tokenize_p_l at 0x11b1efd08>  +  count\n"
     ]
    }
   ],
   "source": [
    "print('The best combo:')\n",
    "print(all_params[sorted(all_params)[len(all_params)-1]])"
   ]
  },
  {
   "cell_type": "markdown",
   "metadata": {},
   "source": [
    "как мы видим выше, лучшая обработка - лемматизация без удаления стоп слов и пунктуации. Что, наверное, логично, так как в спам-сообщениях, может быть измененная пунктуация и много стоп слов.\n",
    "\n",
    "Теперь на лучшей обработке построим бейзлайн"
   ]
  },
  {
   "cell_type": "code",
   "execution_count": 7,
   "metadata": {
    "collapsed": false
   },
   "outputs": [
    {
     "name": "stdout",
     "output_type": "stream",
     "text": [
      "             precision    recall  f1-score   support\n",
      "\n",
      "       spam       0.64      0.61      0.62       973\n",
      "        ham       0.40      0.42      0.41       590\n",
      "\n",
      "avg / total       0.55      0.54      0.54      1563\n",
      "\n"
     ]
    }
   ],
   "source": [
    "from sklearn.dummy import DummyClassifier\n",
    "\n",
    "cv = CountVectorizer(analyzer='word', tokenizer=tokenize_p_l)\n",
    "cv.fit_transform(balansed_messages['message'])\n",
    "transformed_train = cv.transform(train['message'])\n",
    "transformed_test = cv.transform(test['message'])\n",
    "\n",
    "\n",
    "dc = DummyClassifier()\n",
    "dc.fit(transformed_train, train['label'])\n",
    "\n",
    "print(classification_report(test['label'], dc.predict(transformed_test), target_names=['spam', 'ham']))"
   ]
  },
  {
   "cell_type": "markdown",
   "metadata": {},
   "source": [
    "Как видно из отчетов ниже, случайный лес выдает идельный результат. Не понятно почему, вряд ли переобучился"
   ]
  },
  {
   "cell_type": "code",
   "execution_count": 8,
   "metadata": {
    "collapsed": false
   },
   "outputs": [
    {
     "name": "stdout",
     "output_type": "stream",
     "text": [
      "             precision    recall  f1-score   support\n",
      "\n",
      "        ham       1.00      0.98      0.99       973\n",
      "       spam       0.97      1.00      0.99       590\n",
      "\n",
      "avg / total       0.99      0.99      0.99      1563\n",
      "\n",
      "             precision    recall  f1-score   support\n",
      "\n",
      "        ham       1.00      1.00      1.00       973\n",
      "       spam       1.00      1.00      1.00       590\n",
      "\n",
      "avg / total       1.00      1.00      1.00      1563\n",
      "\n"
     ]
    }
   ],
   "source": [
    "from sklearn.model_selection import learning_curve\n",
    "from sklearn.tree import DecisionTreeClassifier\n",
    "from sklearn.ensemble import RandomForestClassifier\n",
    "\n",
    "#train DecisionTreeClassifier\n",
    "dtc = DecisionTreeClassifier()\n",
    "dtc.fit(transformed_train, train['label'])\n",
    "print(classification_report(test['label'], dtc.predict(transformed_test)))\n",
    "\n",
    "#train RandomForestClassifier\n",
    "rfc = RandomForestClassifier()\n",
    "rfc.fit(transformed_train, train['label'])\n",
    "print(classification_report(test['label'], rfc.predict(transformed_test)))"
   ]
  },
  {
   "cell_type": "markdown",
   "metadata": {},
   "source": [
    "Функция для рисования lerning curve"
   ]
  },
  {
   "cell_type": "code",
   "execution_count": 9,
   "metadata": {
    "collapsed": true
   },
   "outputs": [],
   "source": [
    "def plot_learning_curve(estimator, title, X, y, ylim=None, cv=None,\n",
    "                        n_jobs=1, train_sizes=np.linspace(.1, 1.0, 5)):\n",
    "\n",
    "    plt.figure()\n",
    "    plt.title(title)\n",
    "    if ylim is not None:\n",
    "        plt.ylim(*ylim)\n",
    "    plt.xlabel(\"Training examples\")\n",
    "    plt.ylabel(\"Score\")\n",
    "    train_sizes, train_scores, test_scores = learning_curve(\n",
    "        estimator, X, y, cv=cv, n_jobs=n_jobs, train_sizes=train_sizes)\n",
    "    train_scores_mean = np.mean(train_scores, axis=1)\n",
    "    train_scores_std = np.std(train_scores, axis=1)\n",
    "    test_scores_mean = np.mean(test_scores, axis=1)\n",
    "    test_scores_std = np.std(test_scores, axis=1)\n",
    "    plt.grid()\n",
    "\n",
    "    plt.fill_between(train_sizes, train_scores_mean - train_scores_std,\n",
    "                     train_scores_mean + train_scores_std, alpha=0.1,\n",
    "                     color=\"r\")\n",
    "    plt.fill_between(train_sizes, test_scores_mean - test_scores_std,\n",
    "                     test_scores_mean + test_scores_std, alpha=0.1, color=\"g\")\n",
    "    plt.plot(train_sizes, train_scores_mean, 'o-', color=\"r\",\n",
    "             label=\"Training score\")\n",
    "    plt.plot(train_sizes, test_scores_mean, 'o-', color=\"g\",\n",
    "             label=\"Cross-validation score\")\n",
    "\n",
    "    plt.legend(loc=\"best\")\n",
    "    return plt"
   ]
  },
  {
   "cell_type": "code",
   "execution_count": 10,
   "metadata": {
    "collapsed": false
   },
   "outputs": [
    {
     "data": {
      "image/png": "[encoded data removed]",
      "text/plain": [
       "<matplotlib.figure.Figure at 0x10ec14198>"
      ]
     },
     "metadata": {},
     "output_type": "display_data"
    }
   ],
   "source": [
    "from sklearn.model_selection import learning_curve, ShuffleSplit\n",
    "\n",
    "cv = ShuffleSplit(n_splits=10, test_size=0.2, random_state=0)\n",
    "estimator = MultinomialNB()\n",
    "plot_learning_curve(estimator, 'Naive Bayes', transformed_train.toarray(),\n",
    "                    train['label'], ylim=(0.7, 1.01), cv=cv, n_jobs=4)\n",
    "plt.show()"
   ]
  },
  {
   "cell_type": "markdown",
   "metadata": {},
   "source": [
    "Сходится красиво, аккуратно, без разбросов и скачков.\n",
    "а вот с Roc-curve все не так хорошо, почему-то только две точки, да и те на правильные не похожи."
   ]
  },
  {
   "cell_type": "code",
   "execution_count": 11,
   "metadata": {
    "collapsed": false
   },
   "outputs": [
    {
     "name": "stdout",
     "output_type": "stream",
     "text": [
      "2398\n"
     ]
    },
    {
     "data": {
      "image/png": "[encoded data removed]",
      "text/plain": [
       "<matplotlib.figure.Figure at 0x11add45f8>"
      ]
     },
     "metadata": {},
     "output_type": "display_data"
    }
   ],
   "source": [
    "import scikitplot.plotters as skplt\n",
    "import matplotlib.pyplot as plt\n",
    "from sklearn.preprocessing import label_binarize\n",
    "\n",
    "clf = MultinomialNB()\n",
    "change = {'spam':1, 'ham':0}\n",
    "\n",
    "y_train = [change[lbl] for lbl in train['label']]\n",
    "\n",
    "clf.fit(transformed_train, y_train)\n",
    "y = [change[lbl] for lbl in train['label']]\n",
    "print(sum(y))\n",
    "score = clf.predict(transformed_train).tolist()\n",
    "#print(score)\n",
    "roc_x = []\n",
    "roc_y = []\n",
    "min_score = min(score)\n",
    "max_score = max(score)\n",
    "thr = np.linspace(min_score, max_score, 30)\n",
    "FP=0\n",
    "TP=0\n",
    "N = sum(y)\n",
    "P = len(y) - N\n",
    "\n",
    "for (i, T) in enumerate(thr):\n",
    "    for i in range(0, len(score)):\n",
    "        if (score[i] > T):\n",
    "            if (y[i]==1):\n",
    "                TP = TP + 1\n",
    "            if (y[i]==0):\n",
    "                FP = FP + 1\n",
    "    roc_x.append(FP/float(N))\n",
    "    roc_y.append(TP/float(P))\n",
    "    FP=0\n",
    "    TP=0\n",
    "\n",
    "plt.scatter(roc_x, roc_y)\n",
    "plt.show()"
   ]
  },
  {
   "cell_type": "markdown",
   "metadata": {
    "collapsed": true
   },
   "source": [
    "# Задание 3"
   ]
  },
  {
   "cell_type": "markdown",
   "metadata": {},
   "source": [
    "Используем разделение на трейн и тест, которое было сделано еще в начале файла. \n",
    "Построим топ-20 частотных слов для каждого типа сообщений"
   ]
  },
  {
   "cell_type": "code",
   "execution_count": null,
   "metadata": {
    "collapsed": false
   },
   "outputs": [
    {
     "name": "stdout",
     "output_type": "stream",
     "text": [
      "[('to', 1962), ('a', 1185), ('your', 601), ('or', 599), ('the', 574), ('call', 573), ('2', 562), ('for', 554), ('you', 538), ('is', 468), ('Call', 439), ('on', 415), ('have', 399), ('and', 376), ('from', 374), ('ur', 346), ('with', 322), ('of', 313), ('&', 308), ('4', 306)]\n",
      "[('to', 1232), ('I', 1195), ('you', 1189), ('the', 821), ('a', 784), ('and', 596), ('i', 590), ('in', 585), ('is', 513), ('u', 502), ('my', 497), ('me', 440), ('of', 397), ('for', 395), ('that', 328), ('it', 307), ('your', 302), ('have', 278), ('on', 278), ('be', 264)]\n"
     ]
    }
   ],
   "source": [
    "import re\n",
    "import itertools\n",
    "from collections import Counter\n",
    "\n",
    "didg = re.compile('[0-9]+')\n",
    "upper_case_word = re.compile('[A-Z][a-z]+')\n",
    "caps_word = re.compile('[A-Z]+')\n",
    "excl = re.compile('!')\n",
    "que = re.compile('\\?')\n",
    "comm = re.compile(',')\n",
    "#mess_words = re.compile('[A-Za-z0-9]+')\n",
    "#data_new = balansed_messages.copy()\n",
    "\n",
    "words_spam = [line.split() for line in train.loc[train['label'] == 'spam']['message'].tolist()]\n",
    "words_ham = [line.split() for line in train.loc[train['label'] == 'ham']['message'].tolist()]\n",
    "words_spam = list(itertools.chain.from_iterable(words_spam))\n",
    "words_ham = list(itertools.chain.from_iterable(words_ham))\n",
    "\n",
    "d_dict_spam = Counter(words_spam)\n",
    "d_dict_ham = Counter(words_ham)\n",
    "print(d_dict_spam.most_common(20))\n",
    "print(d_dict_ham.most_common(20))"
   ]
  },
  {
   "cell_type": "markdown",
   "metadata": {},
   "source": [
    "в принципе, частотные списки не особо различаются, поэтому, посмотрев на них, я добавлю только &\n",
    "Выделим 10 параметров для каждого сообщения: \n",
    "количество чисел\n",
    "количество слов с большой буквы\n",
    "количество слов только заглавными буквами\n",
    "количество !\n",
    "количество ?\n",
    "количество ,\n",
    "количество &\n",
    "средняя длина слова\n",
    "длина сообщения\n",
    "длина самого длинного слова\n",
    "Кажется, что спам-сообщения написаны менее грамотно с точки зрения пунктуации, поэтому основной упор не нее"
   ]
  },
  {
   "cell_type": "code",
   "execution_count": null,
   "metadata": {
    "collapsed": false,
    "scrolled": false
   },
   "outputs": [
    {
     "name": "stderr",
     "output_type": "stream",
     "text": [
      "/Users/Ksenia/anaconda/lib/python3.6/site-packages/ipykernel/__main__.py:26: SettingWithCopyWarning: \n",
      "A value is trying to be set on a copy of a slice from a DataFrame.\n",
      "Try using .loc[row_indexer,col_indexer] = value instead\n",
      "\n",
      "See the caveats in the documentation: http://pandas.pydata.org/pandas-docs/stable/indexing.html#indexing-view-versus-copy\n",
      "/Users/Ksenia/anaconda/lib/python3.6/site-packages/pandas/core/indexing.py:477: SettingWithCopyWarning: \n",
      "A value is trying to be set on a copy of a slice from a DataFrame.\n",
      "Try using .loc[row_indexer,col_indexer] = value instead\n",
      "\n",
      "See the caveats in the documentation: http://pandas.pydata.org/pandas-docs/stable/indexing.html#indexing-view-versus-copy\n",
      "  self.obj[item] = s\n"
     ]
    }
   ],
   "source": [
    "import statistics as st\n",
    "\n",
    "amp = re.compile('&')\n",
    "def extreact_features(line): #самое долнное слово, длина сообщения, средняя дляна слов\n",
    "    #print(line)\n",
    "    didg_count = len(didg.findall(line))\n",
    "    upper_case_word_count = len(upper_case_word.findall(line))\n",
    "    caps_word_count = len(caps_word.findall(line))\n",
    "    excl_count = len(excl.findall(line))\n",
    "    que_count = len(que.findall(line))\n",
    "    comm_count = len(comm.findall(line))\n",
    "    amp_count = len(amp.findall(line))\n",
    "    len_words = [len(word[:]) for word in line.split()]\n",
    "    mean_len = st.mean(len_words)\n",
    "    max_len = max(len_words)\n",
    "    len_line = len(line.split())\n",
    "    return [didg_count, upper_case_word_count, caps_word_count,\n",
    "            excl_count, que_count, comm_count, amp_count,\n",
    "            mean_len, max_len, len_line]\n",
    "\n",
    "def make_df(data):\n",
    "    columns = ['didg_count', 'upper_case_word_count', 'caps_word_count',\n",
    "                'excl_count', 'que_count', 'comm_count', 'amp_count',\n",
    "                'mean_len', 'max_len', 'len_line']\n",
    "    for col in columns:\n",
    "        data[col] = pd.Series()\n",
    "    #data = data.add(columns, axis='columns')\n",
    "    \n",
    "    for index, line in data.iterrows():\n",
    "        #ln = pd.Series(line)\n",
    "        #print(index, type(extreact_features(data.loc[index]['message'])), len(extreact_features(data.loc[index]['message'])), len(data.loc[index, columns]))\n",
    "        #for i in range(0,len(columns)):\n",
    "        #    print(extreact_features(data.loc[index]['message']))\n",
    "        #data.set_value(index, columns, extreact_features(data.loc[index]['message']))\n",
    "        #print(data.loc[index, columns])\n",
    "        #print('this is msg ---------------------->')\n",
    "        #print(data.loc[index]['message'])\n",
    "        data.loc[index, columns] = extreact_features(data.loc[index]['message'])\n",
    "    return data\n",
    "\n",
    "#print(train['message'])\n",
    "new_train = make_df(train)\n",
    "evaluate = make_df(test)\n"
   ]
  },
  {
   "cell_type": "markdown",
   "metadata": {},
   "source": [
    "Тестовую выборку из предыдущего деления будем рассматривать как evaluation, поэтому для выбора модели нужно еще раз поделить test"
   ]
  },
  {
   "cell_type": "code",
   "execution_count": null,
   "metadata": {
    "collapsed": true
   },
   "outputs": [],
   "source": [
    "to_train, to_test = train_test_split(train, test_size=0.1, random_state=12)"
   ]
  },
  {
   "cell_type": "markdown",
   "metadata": {},
   "source": [
    "как и для bag of words, сделаем бейзлайн-классификатор и обучим модели рандомного леса, байеса и дерева решений"
   ]
  },
  {
   "cell_type": "code",
   "execution_count": null,
   "metadata": {
    "collapsed": true
   },
   "outputs": [],
   "source": [
    "from sklearn.dummy import DummyClassifier\n",
    "\n",
    "columns = ['didg_count', 'upper_case_word_count', 'caps_word_count',\n",
    "            'excl_count', 'que_count', 'comm_count', 'amp_count',\n",
    "            'mean_len', 'max_len', 'len_line']\n",
    "dc = DummyClassifier()\n",
    "dc.fit(to_train[columns], to_train['label'])\n",
    "\n",
    "print(classification_report(to_test['label'], dc.predict(to_test[columns]), target_names=['spam', 'ham']))"
   ]
  },
  {
   "cell_type": "code",
   "execution_count": null,
   "metadata": {
    "collapsed": true
   },
   "outputs": [],
   "source": [
    "clf = MultinomialNB()\n",
    "clf.fit(to_train[columns], to_train['label'])\n",
    "print(classification_report(to_test['label'], clf.predict(to_test[columns]), target_names=['spam', 'ham']))"
   ]
  },
  {
   "cell_type": "code",
   "execution_count": null,
   "metadata": {
    "collapsed": true
   },
   "outputs": [],
   "source": [
    "#train DecisionTreeClassifier\n",
    "dtc = DecisionTreeClassifier()\n",
    "dtc.fit(to_train[columns], to_train['label'])\n",
    "print(classification_report(to_test['label'], dtc.predict(to_test[columns]), target_names=['spam', 'ham']))\n",
    "\n",
    "#train RandomForestClassifier\n",
    "rfc = RandomForestClassifier()\n",
    "rfc.fit(to_train[columns], to_train['label'])\n",
    "print(classification_report(to_test['label'], rfc.predict(to_test[columns]), target_names=['spam', 'ham']))"
   ]
  },
  {
   "cell_type": "code",
   "execution_count": null,
   "metadata": {
    "collapsed": true
   },
   "outputs": [],
   "source": [
    "from sklearn.metrics import confusion_matrix\n",
    "# import matplotlib.pyplot as plt\n",
    "\n",
    "def plot_confusion_matrix(cm, classes,\n",
    "                          title='Confusion matrix',\n",
    "                          cmap=plt.cm.Blues):\n",
    "    plt.imshow(cm, interpolation='nearest', cmap=cmap)\n",
    "    plt.title(title)\n",
    "    plt.colorbar()\n",
    "    tick_marks = np.arange(len(classes))\n",
    "    plt.xticks(tick_marks, classes, rotation=45)\n",
    "    plt.yticks(tick_marks, classes)\n",
    "\n",
    "    thresh = cm.max() / 2.\n",
    "    for i, j in itertools.product(range(cm.shape[0]), range(cm.shape[1])):\n",
    "        plt.text(j, i, cm[i, j],\n",
    "                 horizontalalignment=\"center\",\n",
    "                 color=\"white\" if cm[i, j] > thresh else \"black\")\n",
    "\n",
    "    plt.tight_layout()\n",
    "    plt.ylabel('True label')\n",
    "    plt.xlabel('Predicted label')\n",
    "\n",
    "mat = confusion_matrix(to_train_answ, clf.predict(to_train_vec.toarray()))\n",
    "plt.figure()\n",
    "plot_confusion_matrix(mat, classes=['Cartman', 'Kenny' , 'Kyle' , 'Stan'],\n",
    "                      title='Confusion matrix. Logistic Regression')\n",
    "plt.show()"
   ]
  }
 ],
 "metadata": {
  "kernelspec": {
   "display_name": "Python 3",
   "language": "python",
   "name": "python3"
  },
  "language_info": {
   "codemirror_mode": {
    "name": "ipython",
    "version": 3
   },
   "file_extension": ".py",
   "mimetype": "text/x-python",
   "name": "python",
   "nbconvert_exporter": "python",
   "pygments_lexer": "ipython3",
   "version": "3.6.0"
  }
 },
 "nbformat": 4,
 "nbformat_minor": 2
}
